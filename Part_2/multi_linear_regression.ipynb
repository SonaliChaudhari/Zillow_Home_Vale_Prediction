{
 "cells": [
  {
   "cell_type": "code",
   "execution_count": 1,
   "metadata": {},
   "outputs": [
    {
     "name": "stderr",
     "output_type": "stream",
     "text": [
      "C:\\Users\\madhu\\Anaconda3\\lib\\site-packages\\sklearn\\cross_validation.py:44: DeprecationWarning: This module was deprecated in version 0.18 in favor of the model_selection module into which all the refactored classes and functions are moved. Also note that the interface of the new CV iterators are different from that of this module. This module will be removed in 0.20.\n",
      "  \"This module will be removed in 0.20.\", DeprecationWarning)\n",
      "C:\\Users\\madhu\\Anaconda3\\lib\\site-packages\\sklearn\\grid_search.py:43: DeprecationWarning: This module was deprecated in version 0.18 in favor of the model_selection module into which all the refactored classes and functions are moved. This module will be removed in 0.20.\n",
      "  DeprecationWarning)\n",
      "C:\\Users\\madhu\\Anaconda3\\lib\\site-packages\\sklearn\\lda.py:6: DeprecationWarning: lda.LDA has been moved to discriminant_analysis.LinearDiscriminantAnalysis in 0.17 and will be removed in 0.19\n",
      "  \"in 0.17 and will be removed in 0.19\", DeprecationWarning)\n",
      "C:\\Users\\madhu\\Anaconda3\\lib\\site-packages\\sklearn\\learning_curve.py:23: DeprecationWarning: This module was deprecated in version 0.18 in favor of the model_selection module into which all the functions are moved. This module will be removed in 0.20\n",
      "  DeprecationWarning)\n",
      "C:\\Users\\madhu\\Anaconda3\\lib\\site-packages\\sklearn\\qda.py:6: DeprecationWarning: qda.QDA has been moved to discriminant_analysis.QuadraticDiscriminantAnalysis in 0.17 and will be removed in 0.19.\n",
      "  \"in 0.17 and will be removed in 0.19.\", DeprecationWarning)\n"
     ]
    }
   ],
   "source": [
    "import numpy as np # linear algebra\n",
    "import pandas as pd # data processing, CSV file I/O (e.g. pd.read_csv)\n",
    "import scipy.stats as stats\n",
    "import matplotlib.pyplot as plt\n",
    "import sklearn\n",
    "from sklearn import *\n",
    "from sklearn.cross_validation import train_test_split\n",
    "from sklearn.metrics import *\n",
    "from sklearn.feature_selection import RFE\n",
    "from sklearn.linear_model import LinearRegression"
   ]
  },
  {
   "cell_type": "code",
   "execution_count": 2,
   "metadata": {
    "collapsed": true
   },
   "outputs": [],
   "source": [
    "zillow_data= pd.read_csv('Clean_Combined.csv',low_memory=False)\n",
    "#del zillow_data['regionidcity']\n",
    "#del zillow_data['taxdelinquencyyear']\n",
    "#del zillow_data['propertycountylandusecode']\n",
    "#del zillow_data['hashottuborspa']\n",
    "#del zillow_data['transactiondate']\n",
    "#del zillow_data['taxdelinquencyflag']\n",
    "#del zillow_data['fireplaceflag']"
   ]
  },
  {
   "cell_type": "code",
   "execution_count": 11,
   "metadata": {},
   "outputs": [
    {
     "data": {
      "text/plain": [
       "Unnamed: 0                        int64\n",
       "age                             float64\n",
       "assessmentyear                  float64\n",
       "bathroomcnt                     float64\n",
       "bedroomcnt                      float64\n",
       "calculatedfinishedsquarefeet    float64\n",
       "fips                            float64\n",
       "landtaxvaluedollarcnt           float64\n",
       "latitude                        float64\n",
       "logerror                        float64\n",
       "longitude                       float64\n",
       "lotsizesquarefeet               float64\n",
       "month                             int64\n",
       "parcelid                          int64\n",
       "propertycountylandusecode         int64\n",
       "propertylandusetypeid           float64\n",
       "rawcensustractandblock          float64\n",
       "regionidcity                    float64\n",
       "regionidcounty                  float64\n",
       "regionidzip                     float64\n",
       "roomcnt                         float64\n",
       "structuretaxvaluedollarcnt      float64\n",
       "taxamount                       float64\n",
       "taxvaluedollarcnt               float64\n",
       "transactiondate                   int64\n",
       "year                              int64\n",
       "yearbuilt                       float64\n",
       "dtype: object"
      ]
     },
     "execution_count": 11,
     "metadata": {},
     "output_type": "execute_result"
    }
   ],
   "source": [
    "zillow_data.dtypes\n"
   ]
  },
  {
   "cell_type": "code",
   "execution_count": 93,
   "metadata": {
    "collapsed": true
   },
   "outputs": [],
   "source": [
    " # 2nd try: filtered = zillow_data[['assessmentyear','bathroomcnt','calculatedfinishedsquarefeet','lotsizesquarefeet','propertylandusetypeid','taxamount','transactiondate','taxvaluedollarcnt','structuretaxvaluedollarcnt','longitude','landtaxvaluedollarcnt','bedroomcnt','logerror']]\n",
    "#3rd try filtered = zillow_data[['assessmentyear','bathroomcnt','calculatedfinishedsquarefeet','lotsizesquarefeet','propertylandusetypeid','taxamount','transactiondate','taxvaluedollarcnt','structuretaxvaluedollarcnt','longitude','landtaxvaluedollarcnt','logerror']]\n",
    "#4th try:  filtered = zillow_data[['assessmentyear','bathroomcnt','calculatedfinishedsquarefeet','lotsizesquarefeet','propertylandusetypeid','taxamount','transactiondate','taxvaluedollarcnt','structuretaxvaluedollarcnt','longitude','logerror']]\n",
    "#5th try filtered = zillow_data[['assessmentyear','bathroomcnt','calculatedfinishedsquarefeet','lotsizesquarefeet','propertylandusetypeid','taxamount','transactiondate','taxvaluedollarcnt','structuretaxvaluedollarcnt','logerror']]\n",
    "#6th try: filtered = zillow_data[['assessmentyear','bathroomcnt','calculatedfinishedsquarefeet','lotsizesquarefeet','propertylandusetypeid','taxamount','transactiondate','taxvaluedollarcnt','logerror']]\n",
    "#7th try: filtered = zillow_data[['assessmentyear','bathroomcnt','calculatedfinishedsquarefeet','lotsizesquarefeet','propertylandusetypeid','taxamount','transactiondate','logerror']]\n",
    "filtered = zillow_data[['assessmentyear','bathroomcnt','calculatedfinishedsquarefeet','lotsizesquarefeet','propertylandusetypeid','taxamount','logerror']]\n"
   ]
  },
  {
   "cell_type": "code",
   "execution_count": 94,
   "metadata": {},
   "outputs": [
    {
     "name": "stderr",
     "output_type": "stream",
     "text": [
      "C:\\Users\\madhu\\Anaconda3\\lib\\site-packages\\ipykernel_launcher.py:2: DeprecationWarning: \n",
      ".ix is deprecated. Please use\n",
      ".loc for label based indexing or\n",
      ".iloc for positional indexing\n",
      "\n",
      "See the documentation here:\n",
      "http://pandas.pydata.org/pandas-docs/stable/indexing.html#deprecate_ix\n",
      "  \n"
     ]
    }
   ],
   "source": [
    "#Split the data into training and testing\n",
    "X_train, X_test, y_train, y_test = train_test_split(filtered.ix[:, filtered.columns != 'logerror'], \n",
    "                                                    filtered['logerror'], \n",
    "                                                    test_size=0.30)"
   ]
  },
  {
   "cell_type": "code",
   "execution_count": 95,
   "metadata": {},
   "outputs": [
    {
     "data": {
      "text/plain": [
       "LinearRegression(copy_X=True, fit_intercept=True, n_jobs=1, normalize=False)"
      ]
     },
     "execution_count": 95,
     "metadata": {},
     "output_type": "execute_result"
    }
   ],
   "source": [
    "lm=linear_model.LinearRegression()\n",
    "lm.fit(X_train,y_train)"
   ]
  },
  {
   "cell_type": "code",
   "execution_count": 96,
   "metadata": {},
   "outputs": [
    {
     "data": {
      "text/plain": [
       "-11.61303372827888"
      ]
     },
     "execution_count": 96,
     "metadata": {},
     "output_type": "execute_result"
    }
   ],
   "source": [
    "lm.intercept_"
   ]
  },
  {
   "cell_type": "code",
   "execution_count": 97,
   "metadata": {},
   "outputs": [
    {
     "data": {
      "text/plain": [
       "array([  5.75132162e-03,  -2.18424164e-03,   1.30075459e-05,\n",
       "         2.06716797e-08,   8.40521733e-05,  -8.56227636e-07])"
      ]
     },
     "execution_count": 97,
     "metadata": {},
     "output_type": "execute_result"
    }
   ],
   "source": [
    "lm.coef_"
   ]
  },
  {
   "cell_type": "code",
   "execution_count": 98,
   "metadata": {
    "collapsed": true
   },
   "outputs": [],
   "source": [
    "train_pred = lm.predict(X_train)"
   ]
  },
  {
   "cell_type": "code",
   "execution_count": 99,
   "metadata": {},
   "outputs": [
    {
     "data": {
      "text/plain": [
       "0.0030605777041476934"
      ]
     },
     "execution_count": 99,
     "metadata": {},
     "output_type": "execute_result"
    }
   ],
   "source": [
    "r2_score(y_train, train_pred)"
   ]
  },
  {
   "cell_type": "code",
   "execution_count": 100,
   "metadata": {},
   "outputs": [
    {
     "name": "stdout",
     "output_type": "stream",
     "text": [
      "0.0272667725702\n",
      "0.0691493798578\n"
     ]
    }
   ],
   "source": [
    "    y_train_predicted = lm.predict(X_train)\n",
    "    #finished square footage of the property, square footage of lot, tax amounts, number of bedrooms, and number of units\n",
    "    #MAE, RMS, MAPE\n",
    "    rms = mean_squared_error(y_train, y_train_predicted)    \n",
    "    mae_train = mean_absolute_error(y_train, y_train_predicted) \n",
    "    print(rms)\n",
    "    print(mae_train)"
   ]
  },
  {
   "cell_type": "code",
   "execution_count": 101,
   "metadata": {},
   "outputs": [
    {
     "data": {
      "text/plain": [
       "LinearRegression(copy_X=True, fit_intercept=True, n_jobs=1, normalize=False)"
      ]
     },
     "execution_count": 101,
     "metadata": {},
     "output_type": "execute_result"
    }
   ],
   "source": [
    "lm.fit(X_test,y_test)"
   ]
  },
  {
   "cell_type": "code",
   "execution_count": 103,
   "metadata": {
    "collapsed": true
   },
   "outputs": [],
   "source": [
    "test_pred = lm.predict(X_test)"
   ]
  },
  {
   "cell_type": "code",
   "execution_count": 104,
   "metadata": {},
   "outputs": [
    {
     "data": {
      "text/plain": [
       "0.0034427240306719176"
      ]
     },
     "execution_count": 104,
     "metadata": {},
     "output_type": "execute_result"
    }
   ],
   "source": [
    "r2_score(y_test, test_pred)"
   ]
  },
  {
   "cell_type": "code",
   "execution_count": 106,
   "metadata": {},
   "outputs": [
    {
     "name": "stdout",
     "output_type": "stream",
     "text": [
      "0.0262917804337\n",
      "0.0684294875324\n"
     ]
    }
   ],
   "source": [
    "y_test_predicted = lm.predict(X_test)\n",
    "    #finished square footage of the property, square footage of lot, tax amounts, number of bedrooms, and number of units\n",
    "    #MAE, RMS, MAPE\n",
    "rms = mean_squared_error(y_test, y_test_predicted)    \n",
    "mae_test = mean_absolute_error(y_test, y_test_predicted) \n",
    "print(rms)\n",
    "print(mae_test)"
   ]
  },
  {
   "cell_type": "code",
   "execution_count": null,
   "metadata": {
    "collapsed": true
   },
   "outputs": [],
   "source": []
  }
 ],
 "metadata": {
  "kernelspec": {
   "display_name": "Python 3",
   "language": "python",
   "name": "python3"
  },
  "language_info": {
   "codemirror_mode": {
    "name": "ipython",
    "version": 3
   },
   "file_extension": ".py",
   "mimetype": "text/x-python",
   "name": "python",
   "nbconvert_exporter": "python",
   "pygments_lexer": "ipython3",
   "version": "3.6.1"
  }
 },
 "nbformat": 4,
 "nbformat_minor": 2
}
