{
 "cells": [
  {
   "cell_type": "code",
   "execution_count": 3,
   "metadata": {
    "collapsed": true
   },
   "outputs": [],
   "source": [
    "# Imports\n",
    "import csv, sys\n",
    "from pandas import Series, DataFrame\n",
    "import pandas as pd\n",
    "import seaborn as sns\n",
    "import numpy as np"
   ]
  },
  {
   "cell_type": "code",
   "execution_count": 4,
   "metadata": {
    "collapsed": true
   },
   "outputs": [],
   "source": [
    "# Reading the data from the CSVs into separate dataframes\n",
    "\n",
    "details_2016 = pd.read_csv('/Users/sonalichaudhari/Desktop/ADS_MidTerm/Data/properties_2016.csv',low_memory=False)\n",
    "details_2017 = pd.read_csv('/Users/sonalichaudhari/Desktop/ADS_MidTerm/Data/properties_2017.csv',low_memory=False)\n",
    "trans_2016 = pd.read_csv('/Users/sonalichaudhari/Desktop/ADS_MidTerm/Data/train_2016_v2.csv',low_memory=False)\n",
    "trans_2017 = pd.read_csv('/Users/sonalichaudhari/Desktop/ADS_MidTerm/Data/train_2017.csv',low_memory=False)"
   ]
  },
  {
   "cell_type": "code",
   "execution_count": 5,
   "metadata": {
    "collapsed": true
   },
   "outputs": [],
   "source": [
    "# Separating the year and month from the transactiondate column and storing them in new columns\n",
    "\n",
    "trans_2016['transactiondate'] = pd.to_datetime(trans_2016['transactiondate'])\n",
    "trans_2016['year'] = trans_2016['transactiondate'].dt.year\n",
    "trans_2016['month'] = trans_2016['transactiondate'].dt.month\n",
    "\n",
    "trans_2017['transactiondate'] = pd.to_datetime(trans_2017['transactiondate'])\n",
    "trans_2017['year'] = trans_2017['transactiondate'].dt.year\n",
    "trans_2017['month'] = trans_2017['transactiondate'].dt.month"
   ]
  },
  {
   "cell_type": "code",
   "execution_count": 6,
   "metadata": {
    "collapsed": false
   },
   "outputs": [],
   "source": [
    "# Finding the percentage of missing data\n",
    "\n",
    "missing_data = details_2016.isnull().sum().to_frame(name='Missing_Count').reset_index()\n",
    "missing_data['Missing_percent'] = (missing_data['Missing_Count']/details_2016.shape[0])*100\n",
    "\n",
    "missing_data_17 = details_2017.isnull().sum().to_frame(name='Missing_Count').reset_index()\n",
    "missing_data_17['Missing_percent'] = (missing_data_17['Missing_Count']/details_2017.shape[0])*100"
   ]
  },
  {
   "cell_type": "code",
   "execution_count": 8,
   "metadata": {
    "collapsed": false
   },
   "outputs": [],
   "source": [
    "# Considering only the columns having more than 60% of data\n",
    "\n",
    "features_16 = missing_data['index'][(missing_data.Missing_percent <30)]\n",
    "features_17 = missing_data_17['index'][(missing_data_17.Missing_percent <30)]\n",
    "\n",
    "# Including on the features in the merge data\n",
    "properties_2016 = details_2016[features_16]\n",
    "properties_2017 = details_2017[features_17]"
   ]
  },
  {
   "cell_type": "code",
   "execution_count": 11,
   "metadata": {
    "collapsed": true
   },
   "outputs": [],
   "source": [
    "# Merging the properties and transaction data\n",
    "data_2016 = pd.merge(trans_2016,properties_2016,on='parcelid', how='left')\n",
    "data_2017 = pd.merge(trans_2017,properties_2017,on='parcelid', how='left')"
   ]
  },
  {
   "cell_type": "code",
   "execution_count": 12,
   "metadata": {
    "collapsed": false
   },
   "outputs": [
    {
     "data": {
      "text/plain": [
       "(90275, 29)"
      ]
     },
     "execution_count": 12,
     "metadata": {},
     "output_type": "execute_result"
    }
   ],
   "source": [
    "data_2016.shape"
   ]
  },
  {
   "cell_type": "markdown",
   "metadata": {},
   "source": [
    "## ADDING NEW COLUMNS"
   ]
  },
  {
   "cell_type": "code",
   "execution_count": 10,
   "metadata": {
    "collapsed": true
   },
   "outputs": [],
   "source": [
    "# Adding column 'age' and  calculating the age of each house\n",
    "data_2016['age'] =2017-data_2016['yearbuilt']\n",
    "data_2017['age'] =2017-data_2017['yearbuilt']\n",
    "data_2017 = data_2017.dropna(subset=['latitude'])"
   ]
  },
  {
   "cell_type": "markdown",
   "metadata": {},
   "source": [
    "## REDUNDANT COLUMNS"
   ]
  },
  {
   "cell_type": "markdown",
   "metadata": {},
   "source": [
    "####  'bathroomcnt', 'calculatedbathnbr' and 'fullbathcnt' are the same meaning columns"
   ]
  },
  {
   "cell_type": "code",
   "execution_count": 274,
   "metadata": {
    "collapsed": true
   },
   "outputs": [],
   "source": [
    "# Missing rows in the columns\n",
    "# data_2016[['bathroomcnt','fullbathcnt','calculatedbathnbr']].isnull().sum().sort_values()"
   ]
  },
  {
   "cell_type": "code",
   "execution_count": 275,
   "metadata": {
    "collapsed": true
   },
   "outputs": [],
   "source": [
    "# #Dropping column 'fullbathcnt'\n",
    "# del data_2016['fullbathcnt']\n",
    "# del data_2016['calculatedbathnbr']"
   ]
  },
  {
   "cell_type": "markdown",
   "metadata": {},
   "source": [
    "### 'calculatedfinishedsquarefeet' and 'finishedsquarefeet12' are the same meaning columns"
   ]
  },
  {
   "cell_type": "code",
   "execution_count": 277,
   "metadata": {
    "collapsed": true
   },
   "outputs": [],
   "source": [
    "# Missing rows in the columns\n",
    "#data_2016[['calculatedfinishedsquarefeet','finishedsquarefeet12']].isnull().sum().sort_values()"
   ]
  },
  {
   "cell_type": "code",
   "execution_count": 279,
   "metadata": {
    "collapsed": false
   },
   "outputs": [],
   "source": [
    "# Dropping column 'finishedsquarefeet12'\n",
    "# del data_2016['finishedsquarefeet12']"
   ]
  },
  {
   "cell_type": "markdown",
   "metadata": {},
   "source": [
    "### filling the missing data in 'heatingorsystemtypeid' column"
   ]
  },
  {
   "cell_type": "code",
   "execution_count": 281,
   "metadata": {
    "collapsed": true
   },
   "outputs": [],
   "source": [
    "# heat = data_2016[['parcelid','yearbuilt','heatingorsystemtypeid']]\n",
    "# heat.head()"
   ]
  },
  {
   "cell_type": "code",
   "execution_count": 282,
   "metadata": {
    "collapsed": true
   },
   "outputs": [],
   "source": [
    "# Mode = data_2016['heatingorsystemtypeid'].mode()[0]\n",
    "# Mode"
   ]
  },
  {
   "cell_type": "code",
   "execution_count": 250,
   "metadata": {
    "collapsed": false
   },
   "outputs": [],
   "source": [
    "# del data_2016['fullbathcnt']\n",
    "# del data_2016['finishedsquarefeet12']\n",
    "# del data_2016['calculatedbathnbr']\n",
    "\n",
    "# #del data_2017['Unnamed: 0']\n",
    "# del data_2017['fullbathcnt']\n",
    "# del data_2017['finishedsquarefeet12']\n",
    "# del data_2017['calculatedbathnbr']"
   ]
  },
  {
   "cell_type": "code",
   "execution_count": 252,
   "metadata": {
    "collapsed": true
   },
   "outputs": [],
   "source": [
    "# year = []\n",
    "# heat_system= {}\n",
    "# for index, row in heat.iterrows():\n",
    "#     year.append(row['yearbuilt'])\n",
    "#     for y in year:\n",
    "#         temp = heat[heat.yearbuilt== y]\n",
    "#         #sys = temp[\"heatingorsystemtypeid\"][(temp['count']==m)].values[0]\n",
    "#         #heat_system[y]= sys\n",
    "#         #temp['heatingorsystemtypeid']=temp['heatingorsystemtypeid'].replace(['nan'], m)\n",
    "#         if(temp.shape == temp[temp.isnull().any(axis=1)].shape ):\n",
    "#             temp['heatingorsystemtypeid'].fillna(Mode, inplace=True)\n",
    "#         else:\n",
    "#             m = temp['heatingorsystemtypeid'].mode()[0]\n",
    "#             temp['heatingorsystemtypeid'].fillna(m, inplace=True)\n",
    "#         heat.loc[heat.parcelid.isin(temp.parcelid), ['heatingorsystemtypeid']] = temp[['heatingorsystemtypeid']]\n",
    "# #dataFrame.loc[dataFrame.parcelid.isin(propertyLandUseCodedf.parcelid), ['propertyzoningdesc']] = propertyLandUseCodedf[['propertyzoningdesc']]\n",
    "# #data_2016.loc[data_2016.parcelid.isin(x.parcelid), ['heatingorsystemtypeid']] = x[['heatingorsystemtypeid']]"
   ]
  },
  {
   "cell_type": "code",
   "execution_count": 7,
   "metadata": {
    "collapsed": false
   },
   "outputs": [
    {
     "data": {
      "text/plain": [
       "(90275, 31)"
      ]
     },
     "execution_count": 7,
     "metadata": {},
     "output_type": "execute_result"
    }
   ],
   "source": [
    "data_2016.shape"
   ]
  },
  {
   "cell_type": "code",
   "execution_count": 8,
   "metadata": {
    "collapsed": false
   },
   "outputs": [
    {
     "data": {
      "text/plain": [
       "(77579, 31)"
      ]
     },
     "execution_count": 8,
     "metadata": {},
     "output_type": "execute_result"
    }
   ],
   "source": [
    "data_2017.shape"
   ]
  },
  {
   "cell_type": "markdown",
   "metadata": {},
   "source": [
    "## KNN"
   ]
  },
  {
   "cell_type": "code",
   "execution_count": 260,
   "metadata": {
    "collapsed": false
   },
   "outputs": [
    {
     "data": {
      "text/plain": [
       "array([[  3.35679880e+07,  -1.17731088e+08],\n",
       "       [  3.38249500e+07,  -1.18186014e+08],\n",
       "       [  3.43773090e+07,  -1.18558682e+08],\n",
       "       ..., \n",
       "       [  3.41727000e+07,  -1.18599000e+08],\n",
       "       [  3.42092000e+07,  -1.18575000e+08],\n",
       "       [  3.39467220e+07,  -1.18324769e+08]])"
      ]
     },
     "execution_count": 260,
     "metadata": {},
     "output_type": "execute_result"
    }
   ],
   "source": [
    "# train - will containg the trainig data\n",
    "# target - will contain the dataset will null values to be predicted\n",
    "# target ='yearbuilt' column\n",
    "# train ='latitude','longitude' columns\n",
    "\n",
    "from sklearn.neighbors import KNeighborsClassifier\n",
    "from sklearn import preprocessing, cross_validation, neighbors\n",
    "num_miss\n",
    "not_null.sum()\n",
    "len(Y)"
   ]
  },
  {
   "cell_type": "code",
   "execution_count": 13,
   "metadata": {
    "collapsed": false
   },
   "outputs": [
    {
     "ename": "NameError",
     "evalue": "name 'neighbors' is not defined",
     "output_type": "error",
     "traceback": [
      "\u001b[0;31m---------------------------------------------------------------------------\u001b[0m",
      "\u001b[0;31mNameError\u001b[0m                                 Traceback (most recent call last)",
      "\u001b[0;32m<ipython-input-13-8a6e899133f6>\u001b[0m in \u001b[0;36m<module>\u001b[0;34m()\u001b[0m\n\u001b[1;32m     26\u001b[0m \u001b[0mY\u001b[0m \u001b[0;34m=\u001b[0m\u001b[0mY_target\u001b[0m\u001b[0;34m[\u001b[0m\u001b[0;34m[\u001b[0m\u001b[0;34m'latitude'\u001b[0m\u001b[0;34m,\u001b[0m\u001b[0;34m'longitude'\u001b[0m\u001b[0;34m]\u001b[0m\u001b[0;34m]\u001b[0m\u001b[0;34m.\u001b[0m\u001b[0mvalues\u001b[0m\u001b[0;34m\u001b[0m\u001b[0m\n\u001b[1;32m     27\u001b[0m \u001b[0;34m\u001b[0m\u001b[0m\n\u001b[0;32m---> 28\u001b[0;31m \u001b[0mclf\u001b[0m \u001b[0;34m=\u001b[0m \u001b[0mneighbors\u001b[0m\u001b[0;34m.\u001b[0m\u001b[0mKNeighborsClassifier\u001b[0m\u001b[0;34m(\u001b[0m\u001b[0;34m)\u001b[0m\u001b[0;34m\u001b[0m\u001b[0m\n\u001b[0m\u001b[1;32m     29\u001b[0m \u001b[0mclf\u001b[0m\u001b[0;34m.\u001b[0m\u001b[0mfit\u001b[0m\u001b[0;34m(\u001b[0m\u001b[0mX\u001b[0m\u001b[0;34m,\u001b[0m\u001b[0my\u001b[0m\u001b[0;34m)\u001b[0m\u001b[0;34m\u001b[0m\u001b[0m\n\u001b[1;32m     30\u001b[0m \u001b[0maccuracy\u001b[0m \u001b[0;34m=\u001b[0m \u001b[0mclf\u001b[0m\u001b[0;34m.\u001b[0m\u001b[0mscore\u001b[0m\u001b[0;34m(\u001b[0m\u001b[0mX\u001b[0m\u001b[0;34m,\u001b[0m \u001b[0my\u001b[0m\u001b[0;34m)\u001b[0m \u001b[0;31m#test\u001b[0m\u001b[0;34m\u001b[0m\u001b[0m\n",
      "\u001b[0;31mNameError\u001b[0m: name 'neighbors' is not defined"
     ]
    }
   ],
   "source": [
    "# Algorithm\n",
    "\n",
    "whole = ['latitude','longitude','yearbuilt']\n",
    "base = ['latitude','longitude']#,'parcelid'\n",
    "target_column = 'yearbuilt'\n",
    "\n",
    "null = data_2016[target_column].isnull()\n",
    "not_null = ~null\n",
    "num_miss = null.sum()\n",
    "num_miss\n",
    "\n",
    "X_train = data_2016.loc[not_null, whole].sample(frac = 1)\n",
    "\n",
    "X_train.latitude.astype(int)\n",
    "X_train.longitude.astype(int)\n",
    "X_train.yearbuilt.astype(int)\n",
    "X=X_train[base].values\n",
    "\n",
    "y = X_train[target_column].astype(int)\n",
    "y = y.values\n",
    "\n",
    "Y_target =data_2016.loc[null, base].sample(frac = 1)\n",
    "Y_target.latitude.astype(int)\n",
    "Y_target.longitude.astype(int)\n",
    "\n",
    "Y =Y_target[['latitude','longitude']].values\n",
    "\n",
    "clf = neighbors.KNeighborsClassifier()\n",
    "clf.fit(X,y)\n",
    "accuracy = clf.score(X, y) #test\n",
    "print(accuracy) #this works fine\n",
    "\n",
    "#Y = Y.reshape(len(X), -1)\n",
    "prediction = clf.predict(Y)\n",
    "len(prediction)\n",
    "#prediction"
   ]
  },
  {
   "cell_type": "code",
   "execution_count": 209,
   "metadata": {
    "collapsed": false
   },
   "outputs": [
    {
     "data": {
      "text/plain": [
       "(90275, 31)"
      ]
     },
     "execution_count": 209,
     "metadata": {},
     "output_type": "execute_result"
    }
   ],
   "source": [
    "data_2016.shape"
   ]
  },
  {
   "cell_type": "code",
   "execution_count": 210,
   "metadata": {
    "collapsed": false
   },
   "outputs": [
    {
     "data": {
      "text/plain": [
       "(77579, 31)"
      ]
     },
     "execution_count": 210,
     "metadata": {},
     "output_type": "execute_result"
    }
   ],
   "source": [
    "data_2017.shape"
   ]
  },
  {
   "cell_type": "code",
   "execution_count": 225,
   "metadata": {
    "collapsed": false
   },
   "outputs": [],
   "source": [
    "ss =data_2016.ix[data_2016.parcelid.isin(data_2017.parcelid),'parcelid']"
   ]
  },
  {
   "cell_type": "code",
   "execution_count": 226,
   "metadata": {
    "collapsed": false
   },
   "outputs": [
    {
     "data": {
      "text/plain": [
       "2357"
      ]
     },
     "execution_count": 226,
     "metadata": {},
     "output_type": "execute_result"
    }
   ],
   "source": [
    "len(ss)"
   ]
  },
  {
   "cell_type": "code",
   "execution_count": 227,
   "metadata": {
    "collapsed": true
   },
   "outputs": [],
   "source": [
    "se = data_2017.ix[data_2017.parcelid.isin(data_2016.parcelid),'parcelid']"
   ]
  },
  {
   "cell_type": "code",
   "execution_count": 229,
   "metadata": {
    "collapsed": false
   },
   "outputs": [
    {
     "data": {
      "text/plain": [
       "2356"
      ]
     },
     "execution_count": 229,
     "metadata": {},
     "output_type": "execute_result"
    }
   ],
   "source": [
    "len(se)"
   ]
  },
  {
   "cell_type": "code",
   "execution_count": 239,
   "metadata": {
    "collapsed": false
   },
   "outputs": [
    {
     "name": "stdout",
     "output_type": "stream",
     "text": [
      "0.00752114624947\n"
     ]
    },
    {
     "data": {
      "text/plain": [
       "array([1440, 1121, 1440, 1440, 1440, 1440, 1440, 1440, 1440, 1440, 1440,\n",
       "       1440, 1440, 1440, 1440,  896, 1440, 1440, 1437, 1440, 1440, 1440,\n",
       "       1440, 1440, 1440, 1440, 1440, 1440, 1440, 1440, 1440, 1440, 1440,\n",
       "       1440, 1440, 1440, 1440, 1440, 1440, 1440, 1440, 1141, 1440, 1440,\n",
       "       1440, 1440, 1440, 1440, 1440, 1440, 1440, 1440, 1440, 1440, 1440,\n",
       "       1440, 1440, 1440, 1440, 1440, 1440, 1440, 1440, 1440, 1440, 1440,\n",
       "       1440, 1440, 1440, 1440, 1440, 1440, 1440, 1440, 1440, 1440, 1440,\n",
       "       1440, 1440, 1440, 1440, 1440, 1440, 1440, 1440, 1440, 1440, 1440,\n",
       "       1440, 1440, 1440, 1440, 1440, 1440, 1440, 1440, 1440, 1440, 1440,\n",
       "       1440, 1440, 1440, 1440, 1440, 1440, 1440, 1440, 1440, 1440, 1440,\n",
       "       1440, 1440, 1440, 1440, 1440, 1440, 1440, 1440, 1440, 1440, 1440,\n",
       "       1440, 1440, 1440, 1440, 1440, 1440, 1440, 1440, 1440, 1440, 1440,\n",
       "       1440, 1440, 1440, 1440, 1440, 1440, 1440, 1440, 1440, 1440, 1440,\n",
       "       1440, 1440, 1440, 1440, 1440, 1440, 1440, 1440, 1440, 1440, 1440,\n",
       "       1440, 1440, 1440, 1440, 1440, 1440, 1440, 1440, 1440, 1440, 1440,\n",
       "       1440, 1440, 1440, 1440, 1440, 1440, 1440, 1440, 1440, 1440, 1440,\n",
       "       1440, 1440, 1440, 1440, 1440, 1440, 1440, 1440, 1440, 1440, 1440,\n",
       "       1440, 1440, 1440, 1440, 1440, 1440, 1440, 1440, 1440, 1440, 1440,\n",
       "       1440, 1440, 1440, 1440, 1440, 1440, 1440, 1440, 1440, 1440, 1440,\n",
       "       1440, 1440, 1440, 1440, 1440, 1440, 1440, 1440, 1440, 1440, 1440,\n",
       "       1440, 1440, 1440, 1440, 1440, 1440, 1440, 1440, 1440, 1440, 1440,\n",
       "       1440, 1440, 1440, 1440, 1440, 1440, 1440, 1440, 1440, 1440, 1440,\n",
       "       1440, 1440, 1440, 1440, 1440, 1440, 1440, 1440, 1440, 1440, 1440,\n",
       "       1440, 1440, 1440, 1440, 1440, 1440, 1440, 1440, 1440, 1440, 1440,\n",
       "       1440, 1440, 1440, 1440, 1440, 1440, 1440, 1440, 1440, 1440, 1440,\n",
       "       1440, 1440, 1440, 1440, 1440, 1440, 1440, 1440, 1440, 1440, 1440,\n",
       "       1440, 1440, 1440, 1440, 1440, 1440, 1440, 1440, 1440, 1440, 1440,\n",
       "       1440, 1440, 1440, 1440, 1440, 1440, 1440, 1440, 1440, 1440, 1440,\n",
       "       1440, 1440, 1440, 1440, 1440, 1440, 1440, 1440, 1440, 1440, 1440,\n",
       "       1440, 1440, 1440, 1440, 1440, 1470, 1440, 1440, 1440, 1440, 1440,\n",
       "       1440, 1440, 1440, 1440, 1440, 1440, 1440, 1440, 1440, 1440, 1440,\n",
       "       1440, 1440, 1440, 1440, 1440, 1440, 1440, 1440, 1440, 1440, 1440,\n",
       "       1440, 1440, 1440, 1440, 1440, 1440, 1440, 1440, 1440, 1440, 1440,\n",
       "       1440, 1440, 1440, 1440, 1440, 1440, 1440, 1440, 1440, 1440, 1440,\n",
       "       1440, 1440, 1440, 1440, 1440, 1440, 1440, 1440, 1440, 1440, 1440,\n",
       "       1440, 1440, 1440, 1440, 1440, 1440, 1440, 1440, 1440, 1440, 1456,\n",
       "       1440, 1440, 1440, 1440, 1440, 1440, 1440, 1440, 1440, 1440, 1440,\n",
       "       1440, 1440, 1440, 1440, 1440, 1440, 1440, 1440, 1440, 1440, 1440,\n",
       "       1440, 1440, 1440, 1440, 1440, 1440, 1440, 1440, 1440, 1440, 1440,\n",
       "       1440, 1440, 1440, 1440, 1440, 1440, 1440, 1440, 1440, 1440, 1440,\n",
       "       1440, 1440, 1440, 1440, 1440, 1440, 1440, 1440, 1440, 1440, 1440,\n",
       "       1440, 1440, 1440, 1440, 1440, 1440, 1440, 1440, 1440, 1440, 1440,\n",
       "       1440, 1440, 1440, 1440, 1440, 1440, 1440, 1440, 1440, 1440, 1440,\n",
       "       1440, 1440, 1440, 1440, 1440, 1440, 1440, 1440, 1440, 1440, 1440,\n",
       "       1440, 1440, 1440, 1440, 1440, 1440, 1440, 1440, 1440, 1440, 1440,\n",
       "       1440, 1440, 1440, 1440, 1440, 1440, 1440, 1440, 1440, 1440, 1440,\n",
       "        896, 1440, 1440, 1440, 1440, 1440, 1440, 1440, 1440, 1440, 1440,\n",
       "       1440, 1440, 1440, 1440, 1440, 1440, 1440, 1440, 1440, 1440, 1440,\n",
       "       1440, 1440, 1440, 1440, 1440, 1440, 1440, 1440, 1119, 1440, 1440,\n",
       "       1440, 1440, 1440, 1440, 1440, 1440, 1440, 1440, 1440, 1440, 1440,\n",
       "       1440, 1440, 1440, 1440, 1440, 1440, 1440, 1440, 1440, 1440, 1440,\n",
       "       1440, 1440, 1440, 1440, 1440, 1440, 1440, 1440, 1440, 1440, 1440,\n",
       "       1440, 1440, 1440, 1440, 1440, 1440, 1440, 1440, 1440, 1440, 1440,\n",
       "       1440, 1440, 1440, 1440, 1440, 1440, 1440, 1440, 1440, 1440, 1440,\n",
       "       1440, 1440, 1440, 1440, 1440, 1440, 1440, 1440, 1440, 1440, 1440,\n",
       "       1440, 1440, 1440, 1440, 1440, 1440, 1440, 1440, 1440, 1440, 1440,\n",
       "       1440, 1440, 1440, 1440, 1440, 1440, 1440, 1440, 1440, 1440, 1440,\n",
       "       1440, 1440, 1440, 1440, 1440, 1440, 1440, 1440, 1440, 1440, 1440,\n",
       "        522, 1440, 1440, 1440, 1440, 1440, 1440, 1440, 1440, 1440, 1440,\n",
       "       1440, 1440, 1440, 1440, 1440, 1440, 1440, 1440, 1440, 1440, 1440,\n",
       "       1440])"
      ]
     },
     "execution_count": 239,
     "metadata": {},
     "output_type": "execute_result"
    }
   ],
   "source": [
    "base = 'roomcnt','bedroomcnt','bathroomcnt','calculatedfinishedsquarefeet'#,'parcelid'\n",
    "target_column = 'calculatedfinishedsquarefeet'\n",
    "\n",
    "null = data_2016[target_column].isnull()\n",
    "not_null = ~null\n",
    "num_miss = null.sum()\n",
    "num_miss\n",
    "\n",
    "X_train = data_2016.loc[not_null, base].sample(frac = 1)\n",
    "\n",
    "X_train.roomcnt.astype(int)\n",
    "X_train.bedroomcnt.astype(int)\n",
    "X_train.bathroomcnt.astype(int)\n",
    "X_train.calculatedfinishedsquarefeet.astype(int)\n",
    "X=X_train[['roomcnt','bedroomcnt','bathroomcnt']].values\n",
    "\n",
    "y = X_train[target_column].astype(int)\n",
    "y = y.values\n",
    "\n",
    "Y_target =data_2016.loc[null, base].sample(frac = 1)\n",
    "Y_target.roomcnt.astype(int)\n",
    "Y_target.bedroomcnt.astype(int)\n",
    "Y_target.bathroomcnt.astype(int)\n",
    "\n",
    "Y =Y_target[['roomcnt','bedroomcnt','bathroomcnt']].values\n",
    "\n",
    "clf = neighbors.KNeighborsClassifier()\n",
    "clf.fit(X,y)\n",
    "accuracy = clf.score(X, y) #test\n",
    "print(accuracy) #this works fine\n",
    "\n",
    "#Y = Y.reshape(len(X), -1)\n",
    "prediction = clf.predict(Y)\n",
    "len(prediction)\n",
    "prediction"
   ]
  },
  {
   "cell_type": "code",
   "execution_count": 270,
   "metadata": {
    "collapsed": false
   },
   "outputs": [
    {
     "data": {
      "text/plain": [
       "Index(['parcelid', 'logerror', 'transactiondate', 'year', 'month',\n",
       "       'bathroomcnt', 'bedroomcnt', 'buildingqualitytypeid',\n",
       "       'calculatedbathnbr', 'calculatedfinishedsquarefeet',\n",
       "       'finishedsquarefeet12', 'fips', 'fullbathcnt', 'heatingorsystemtypeid',\n",
       "       'latitude', 'longitude', 'lotsizesquarefeet',\n",
       "       'propertycountylandusecode', 'propertylandusetypeid',\n",
       "       'propertyzoningdesc', 'rawcensustractandblock', 'regionidcity',\n",
       "       'regionidcounty', 'regionidzip', 'roomcnt', 'unitcnt', 'yearbuilt',\n",
       "       'structuretaxvaluedollarcnt', 'taxvaluedollarcnt', 'assessmentyear',\n",
       "       'landtaxvaluedollarcnt', 'taxamount', 'censustractandblock'],\n",
       "      dtype='object')"
      ]
     },
     "execution_count": 270,
     "metadata": {},
     "output_type": "execute_result"
    }
   ],
   "source": [
    "data_2016.columns"
   ]
  },
  {
   "cell_type": "code",
   "execution_count": 272,
   "metadata": {
    "collapsed": false
   },
   "outputs": [
    {
     "data": {
      "text/plain": [
       "parcelid                            0\n",
       "propertylandusetypeid               0\n",
       "longitude                           0\n",
       "latitude                            0\n",
       "roomcnt                             0\n",
       "fips                                0\n",
       "regionidcounty                      0\n",
       "assessmentyear                      0\n",
       "rawcensustractandblock              0\n",
       "bedroomcnt                          0\n",
       "bathroomcnt                         0\n",
       "month                               0\n",
       "year                                0\n",
       "transactiondate                     0\n",
       "logerror                            0\n",
       "taxvaluedollarcnt                   1\n",
       "propertycountylandusecode           1\n",
       "landtaxvaluedollarcnt               1\n",
       "taxamount                           6\n",
       "regionidzip                        35\n",
       "structuretaxvaluedollarcnt        380\n",
       "censustractandblock               605\n",
       "calculatedfinishedsquarefeet      661\n",
       "yearbuilt                         756\n",
       "fullbathcnt                      1182\n",
       "calculatedbathnbr                1182\n",
       "regionidcity                     1803\n",
       "finishedsquarefeet12             4679\n",
       "lotsizesquarefeet               10150\n",
       "unitcnt                         31922\n",
       "propertyzoningdesc              31962\n",
       "buildingqualitytypeid           32911\n",
       "heatingorsystemtypeid           34195\n",
       "dtype: int64"
      ]
     },
     "execution_count": 272,
     "metadata": {},
     "output_type": "execute_result"
    }
   ],
   "source": [
    "data_2016.isnull().sum().sort_values()"
   ]
  },
  {
   "cell_type": "code",
   "execution_count": null,
   "metadata": {
    "collapsed": true
   },
   "outputs": [],
   "source": []
  }
 ],
 "metadata": {
  "anaconda-cloud": {},
  "kernelspec": {
   "display_name": "Python [conda root]",
   "language": "python",
   "name": "conda-root-py"
  },
  "language_info": {
   "codemirror_mode": {
    "name": "ipython",
    "version": 3
   },
   "file_extension": ".py",
   "mimetype": "text/x-python",
   "name": "python",
   "nbconvert_exporter": "python",
   "pygments_lexer": "ipython3",
   "version": "3.5.2"
  }
 },
 "nbformat": 4,
 "nbformat_minor": 2
}
