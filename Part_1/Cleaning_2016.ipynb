{
 "cells": [
  {
   "cell_type": "markdown",
   "metadata": {
    "collapsed": false
   },
   "source": [
    "# Part1 - Data Wrangling"
   ]
  },
  {
   "cell_type": "markdown",
   "metadata": {},
   "source": [
    "### Imports"
   ]
  },
  {
   "cell_type": "code",
   "execution_count": 732,
   "metadata": {
    "collapsed": false
   },
   "outputs": [],
   "source": [
    "import numpy as np \n",
    "import pandas as pd\n",
    "import os\n",
    "import seaborn as sns\n",
    "import sys\n",
    "import boto\n",
    "from boto.s3.key import Key\n",
    "import zipfile\n",
    "import boto.s3.connection\n",
    "from os.path import basename\n",
    "color = sns.color_palette()\n",
    "from sklearn.neighbors import KNeighborsClassifier\n",
    "from sklearn import preprocessing, neighbors\n",
    "from sklearn.preprocessing import LabelEncoder\n",
    "from uszipcode import ZipcodeSearchEngine\n",
    "import matplotlib.pyplot as plt"
   ]
  },
  {
   "cell_type": "markdown",
   "metadata": {},
   "source": [
    "### Importing the properties and transaction details"
   ]
  },
  {
   "cell_type": "code",
   "execution_count": 832,
   "metadata": {
    "collapsed": false
   },
   "outputs": [],
   "source": [
    "detail = pd.read_csv('/Users/sonalichaudhari/Desktop/ADS_MidTerm/Data/properties_2017.csv',low_memory=False)\n",
    "trans = pd.read_csv('/Users/sonalichaudhari/Desktop/ADS_MidTerm/Data/train_2017.csv',low_memory=False)\n",
    "\n",
    "#details_2017 = pd.read_csv('/Users/sonalichaudhari/Desktop/ADS_MidTerm/Data/properties_2017.csv',low_memory=False)\n",
    "#trans_2017 = pd.read_csv('/Users/sonalichaudhari/Desktop/ADS_MidTerm/Data/train_2017.csv',low_memory=False)"
   ]
  },
  {
   "cell_type": "markdown",
   "metadata": {},
   "source": [
    "### Getting rid of columns having more than 70% data missing"
   ]
  },
  {
   "cell_type": "code",
   "execution_count": 833,
   "metadata": {
    "collapsed": false
   },
   "outputs": [],
   "source": [
    "missing_data = detail.isnull().sum().to_frame(name='Missing_Count').reset_index()\n",
    "missing_data['Missing_percent'] = (missing_data['Missing_Count']/detail.shape[0])*100\n",
    "missing_data.head()\n",
    "missing_data = missing_data.sort_values(by='Missing_percent', axis=0, ascending=True)\n",
    "features = missing_data['index'][(missing_data.Missing_percent <30)]\n",
    "detail = detail[features]"
   ]
  },
  {
   "cell_type": "markdown",
   "metadata": {},
   "source": [
    "### Separating the year and month from the transactiondate column"
   ]
  },
  {
   "cell_type": "code",
   "execution_count": 834,
   "metadata": {
    "collapsed": false
   },
   "outputs": [],
   "source": [
    "trans['transactiondate'] = pd.to_datetime(trans['transactiondate'])\n",
    "trans['year'] = trans['transactiondate'].dt.year\n",
    "trans['month'] = trans['transactiondate'].dt.month"
   ]
  },
  {
   "cell_type": "markdown",
   "metadata": {},
   "source": [
    "### Merging the data"
   ]
  },
  {
   "cell_type": "code",
   "execution_count": 835,
   "metadata": {
    "collapsed": false
   },
   "outputs": [],
   "source": [
    "df =   pd.merge(trans,detail,on='parcelid', how ='left')"
   ]
  },
  {
   "cell_type": "markdown",
   "metadata": {},
   "source": [
    "### Getting rid of redudndant columns"
   ]
  },
  {
   "cell_type": "markdown",
   "metadata": {},
   "source": [
    "rawcensustractandblock and censustractandblock are same meaning column->rawcensustractandblockcontains no missing data but censustractandblock columns contains missising data"
   ]
  },
  {
   "cell_type": "code",
   "execution_count": 836,
   "metadata": {
    "collapsed": true
   },
   "outputs": [],
   "source": [
    "del df['censustractandblock']"
   ]
  },
  {
   "cell_type": "markdown",
   "metadata": {},
   "source": [
    "'bathroomcnt','fullbathcnt','calculatedbathnbr' are same meaning column->bathroomcnt no missing data but fullbathcnt,calculatedbathnbr columns contains missising data"
   ]
  },
  {
   "cell_type": "raw",
   "metadata": {},
   "source": [
    "'calculatedfinishedsquarefeet','finishedsquarefeet12'are same meaning column->calculatedfinishedsquarefeet had les missing data than finishedsquarefeet12-> deleting the column"
   ]
  },
  {
   "cell_type": "code",
   "execution_count": 837,
   "metadata": {
    "collapsed": false
   },
   "outputs": [],
   "source": [
    "del df['fullbathcnt']\n",
    "del df['calculatedbathnbr']\n",
    "del df['finishedsquarefeet12']"
   ]
  },
  {
   "cell_type": "code",
   "execution_count": 838,
   "metadata": {
    "collapsed": false
   },
   "outputs": [],
   "source": [
    "#df[['calculatedfinishedsquarefeet','finishedsquarefeet12']].isnull().sum().sort_values()"
   ]
  },
  {
   "cell_type": "code",
   "execution_count": 839,
   "metadata": {
    "collapsed": false
   },
   "outputs": [],
   "source": [
    "#df[['bathroomcnt','fullbathcnt','calculatedbathnbr']].isnull().sum().sort_values()"
   ]
  },
  {
   "cell_type": "code",
   "execution_count": 840,
   "metadata": {
    "collapsed": false
   },
   "outputs": [],
   "source": [
    "#df[['rawcensustractandblock','censustractandblock']].isnull().sum()"
   ]
  },
  {
   "cell_type": "markdown",
   "metadata": {},
   "source": [
    "### Handling the latitude and longtide columns\n",
    "#### Dropping latitude and longtide rows in any of them is missing\n",
    "#### Correcting the latitude longitude format(decimal places)"
   ]
  },
  {
   "cell_type": "code",
   "execution_count": 841,
   "metadata": {
    "collapsed": false
   },
   "outputs": [
    {
     "data": {
      "text/plain": [
       "33634931.0"
      ]
     },
     "execution_count": 841,
     "metadata": {},
     "output_type": "execute_result"
    }
   ],
   "source": [
    "df.latitude[0]"
   ]
  },
  {
   "cell_type": "code",
   "execution_count": 842,
   "metadata": {
    "collapsed": false
   },
   "outputs": [],
   "source": [
    "df = df.dropna(subset=['latitude'])\n",
    "df = df.dropna(subset=['longitude'])\n",
    "\n",
    "df['latitude'] = df['latitude'] / 1000000\n",
    "df['longitude'] = df['longitude'] / 1000000"
   ]
  },
  {
   "cell_type": "markdown",
   "metadata": {},
   "source": [
    "### Handling zipcode"
   ]
  },
  {
   "cell_type": "code",
   "execution_count": 843,
   "metadata": {
    "collapsed": false
   },
   "outputs": [],
   "source": [
    "location= ['latitude','longitude','regionidzip','regionidcity','regionidcounty']"
   ]
  },
  {
   "cell_type": "code",
   "execution_count": 844,
   "metadata": {
    "collapsed": false
   },
   "outputs": [
    {
     "data": {
      "text/plain": [
       "count     77529.000000\n",
       "mean      96586.692812\n",
       "std        3793.552065\n",
       "min       95982.000000\n",
       "25%       96193.000000\n",
       "50%       96389.000000\n",
       "75%       96987.000000\n",
       "max      399675.000000\n",
       "Name: regionidzip, dtype: float64"
      ]
     },
     "execution_count": 844,
     "metadata": {},
     "output_type": "execute_result"
    }
   ],
   "source": [
    "df.regionidzip.describe()"
   ]
  },
  {
   "cell_type": "code",
   "execution_count": 845,
   "metadata": {
    "collapsed": false
   },
   "outputs": [
    {
     "data": {
      "text/plain": [
       "regionidzip    12\n",
       "dtype: int64"
      ]
     },
     "execution_count": 845,
     "metadata": {},
     "output_type": "execute_result"
    }
   ],
   "source": [
    "df[['regionidzip']][df.regionidzip >= 100000].count()"
   ]
  },
  {
   "cell_type": "code",
   "execution_count": 846,
   "metadata": {
    "collapsed": false
   },
   "outputs": [
    {
     "data": {
      "text/html": [
       "<div>\n",
       "<table border=\"1\" class=\"dataframe\">\n",
       "  <thead>\n",
       "    <tr style=\"text-align: right;\">\n",
       "      <th></th>\n",
       "      <th>latitude</th>\n",
       "      <th>longitude</th>\n",
       "      <th>regionidzip</th>\n",
       "      <th>regionidcity</th>\n",
       "      <th>regionidcounty</th>\n",
       "    </tr>\n",
       "  </thead>\n",
       "  <tbody>\n",
       "    <tr>\n",
       "      <th>4702</th>\n",
       "      <td>34.145256</td>\n",
       "      <td>-117.969118</td>\n",
       "      <td>399675.0</td>\n",
       "      <td>14906.0</td>\n",
       "      <td>3101.0</td>\n",
       "    </tr>\n",
       "    <tr>\n",
       "      <th>7652</th>\n",
       "      <td>34.144255</td>\n",
       "      <td>-117.969104</td>\n",
       "      <td>399675.0</td>\n",
       "      <td>14906.0</td>\n",
       "      <td>3101.0</td>\n",
       "    </tr>\n",
       "    <tr>\n",
       "      <th>24646</th>\n",
       "      <td>34.149216</td>\n",
       "      <td>-117.969003</td>\n",
       "      <td>399675.0</td>\n",
       "      <td>14906.0</td>\n",
       "      <td>3101.0</td>\n",
       "    </tr>\n",
       "    <tr>\n",
       "      <th>35872</th>\n",
       "      <td>34.160173</td>\n",
       "      <td>-117.973852</td>\n",
       "      <td>399675.0</td>\n",
       "      <td>14906.0</td>\n",
       "      <td>3101.0</td>\n",
       "    </tr>\n",
       "    <tr>\n",
       "      <th>38690</th>\n",
       "      <td>34.144897</td>\n",
       "      <td>-117.953095</td>\n",
       "      <td>399675.0</td>\n",
       "      <td>14906.0</td>\n",
       "      <td>3101.0</td>\n",
       "    </tr>\n",
       "    <tr>\n",
       "      <th>42510</th>\n",
       "      <td>34.154731</td>\n",
       "      <td>-117.954681</td>\n",
       "      <td>399675.0</td>\n",
       "      <td>24435.0</td>\n",
       "      <td>3101.0</td>\n",
       "    </tr>\n",
       "    <tr>\n",
       "      <th>49034</th>\n",
       "      <td>34.153603</td>\n",
       "      <td>-117.953027</td>\n",
       "      <td>399675.0</td>\n",
       "      <td>24435.0</td>\n",
       "      <td>3101.0</td>\n",
       "    </tr>\n",
       "    <tr>\n",
       "      <th>56084</th>\n",
       "      <td>34.151260</td>\n",
       "      <td>-117.957962</td>\n",
       "      <td>399675.0</td>\n",
       "      <td>14906.0</td>\n",
       "      <td>3101.0</td>\n",
       "    </tr>\n",
       "    <tr>\n",
       "      <th>62845</th>\n",
       "      <td>34.145644</td>\n",
       "      <td>-117.954984</td>\n",
       "      <td>399675.0</td>\n",
       "      <td>14906.0</td>\n",
       "      <td>3101.0</td>\n",
       "    </tr>\n",
       "    <tr>\n",
       "      <th>69752</th>\n",
       "      <td>34.144586</td>\n",
       "      <td>-117.969104</td>\n",
       "      <td>399675.0</td>\n",
       "      <td>14906.0</td>\n",
       "      <td>3101.0</td>\n",
       "    </tr>\n",
       "    <tr>\n",
       "      <th>71663</th>\n",
       "      <td>34.147261</td>\n",
       "      <td>-117.953677</td>\n",
       "      <td>399675.0</td>\n",
       "      <td>14906.0</td>\n",
       "      <td>3101.0</td>\n",
       "    </tr>\n",
       "    <tr>\n",
       "      <th>77118</th>\n",
       "      <td>34.147393</td>\n",
       "      <td>-117.973969</td>\n",
       "      <td>399675.0</td>\n",
       "      <td>14906.0</td>\n",
       "      <td>3101.0</td>\n",
       "    </tr>\n",
       "  </tbody>\n",
       "</table>\n",
       "</div>"
      ],
      "text/plain": [
       "        latitude   longitude  regionidzip  regionidcity  regionidcounty\n",
       "4702   34.145256 -117.969118     399675.0       14906.0          3101.0\n",
       "7652   34.144255 -117.969104     399675.0       14906.0          3101.0\n",
       "24646  34.149216 -117.969003     399675.0       14906.0          3101.0\n",
       "35872  34.160173 -117.973852     399675.0       14906.0          3101.0\n",
       "38690  34.144897 -117.953095     399675.0       14906.0          3101.0\n",
       "42510  34.154731 -117.954681     399675.0       24435.0          3101.0\n",
       "49034  34.153603 -117.953027     399675.0       24435.0          3101.0\n",
       "56084  34.151260 -117.957962     399675.0       14906.0          3101.0\n",
       "62845  34.145644 -117.954984     399675.0       14906.0          3101.0\n",
       "69752  34.144586 -117.969104     399675.0       14906.0          3101.0\n",
       "71663  34.147261 -117.953677     399675.0       14906.0          3101.0\n",
       "77118  34.147393 -117.973969     399675.0       14906.0          3101.0"
      ]
     },
     "execution_count": 846,
     "metadata": {},
     "output_type": "execute_result"
    }
   ],
   "source": [
    "df[location][df.regionidzip >= 100000]"
   ]
  },
  {
   "cell_type": "code",
   "execution_count": 847,
   "metadata": {
    "collapsed": false
   },
   "outputs": [
    {
     "data": {
      "text/html": [
       "<div>\n",
       "<table border=\"1\" class=\"dataframe\">\n",
       "  <thead>\n",
       "    <tr style=\"text-align: right;\">\n",
       "      <th></th>\n",
       "      <th>parcelid</th>\n",
       "    </tr>\n",
       "    <tr>\n",
       "      <th>regionidcounty</th>\n",
       "      <th></th>\n",
       "    </tr>\n",
       "  </thead>\n",
       "  <tbody>\n",
       "    <tr>\n",
       "      <th>2061.0</th>\n",
       "      <td>6252</td>\n",
       "    </tr>\n",
       "    <tr>\n",
       "      <th>1286.0</th>\n",
       "      <td>20631</td>\n",
       "    </tr>\n",
       "    <tr>\n",
       "      <th>3101.0</th>\n",
       "      <td>50696</td>\n",
       "    </tr>\n",
       "  </tbody>\n",
       "</table>\n",
       "</div>"
      ],
      "text/plain": [
       "                parcelid\n",
       "regionidcounty          \n",
       "2061.0              6252\n",
       "1286.0             20631\n",
       "3101.0             50696"
      ]
     },
     "execution_count": 847,
     "metadata": {},
     "output_type": "execute_result"
    }
   ],
   "source": [
    "df[['parcelid','regionidcounty']].groupby('regionidcounty').count().sort_values(by='parcelid')"
   ]
  },
  {
   "cell_type": "code",
   "execution_count": 848,
   "metadata": {
    "collapsed": false
   },
   "outputs": [
    {
     "data": {
      "text/plain": [
       "array([ 1286.,  2061.,  3101.])"
      ]
     },
     "execution_count": 848,
     "metadata": {},
     "output_type": "execute_result"
    }
   ],
   "source": [
    "df.regionidcounty.unique()"
   ]
  },
  {
   "cell_type": "code",
   "execution_count": 849,
   "metadata": {
    "collapsed": false
   },
   "outputs": [
    {
     "data": {
      "text/html": [
       "<div>\n",
       "<table border=\"1\" class=\"dataframe\">\n",
       "  <thead>\n",
       "    <tr style=\"text-align: right;\">\n",
       "      <th></th>\n",
       "      <th>parcelid</th>\n",
       "    </tr>\n",
       "    <tr>\n",
       "      <th>fips</th>\n",
       "      <th></th>\n",
       "    </tr>\n",
       "  </thead>\n",
       "  <tbody>\n",
       "    <tr>\n",
       "      <th>6111.0</th>\n",
       "      <td>6252</td>\n",
       "    </tr>\n",
       "    <tr>\n",
       "      <th>6059.0</th>\n",
       "      <td>20631</td>\n",
       "    </tr>\n",
       "    <tr>\n",
       "      <th>6037.0</th>\n",
       "      <td>50696</td>\n",
       "    </tr>\n",
       "  </tbody>\n",
       "</table>\n",
       "</div>"
      ],
      "text/plain": [
       "        parcelid\n",
       "fips            \n",
       "6111.0      6252\n",
       "6059.0     20631\n",
       "6037.0     50696"
      ]
     },
     "execution_count": 849,
     "metadata": {},
     "output_type": "execute_result"
    }
   ],
   "source": [
    "df[['parcelid','fips']].groupby('fips').count().sort_values(by='parcelid')"
   ]
  },
  {
   "cell_type": "code",
   "execution_count": 850,
   "metadata": {
    "collapsed": false
   },
   "outputs": [],
   "source": [
    "# Replacing the false zipcode with mode value of zipcode within the county group\n",
    "\n",
    "z = df[['regionidzip','regionidcounty']][df.regionidcounty ==3101.0]\n",
    "search = ZipcodeSearchEngine()\n",
    "zipcode = z['regionidzip'][z.regionidzip <= 100000].mode().values[0]\n",
    "df.loc[df['regionidzip'] > 100000, 'regionidzip'] = zipcode"
   ]
  },
  {
   "cell_type": "code",
   "execution_count": 851,
   "metadata": {
    "collapsed": false
   },
   "outputs": [],
   "source": [
    "# res = search.by_coordinate(34.211295,-119.027964, radius=30, returns=1)[0]['Zipcode']\n",
    "# res"
   ]
  },
  {
   "cell_type": "code",
   "execution_count": 852,
   "metadata": {
    "collapsed": false
   },
   "outputs": [],
   "source": [
    "# Using ZipcodeSearchEngine to fill in the missing zipcodes\n",
    "\n",
    "df.loc[df.regionidzip.isnull(), 'regionidzip']=search.by_coordinate(df['latitude'].values[0],df['longitude'].values[0], radius=30, returns=1)[0]['Zipcode']"
   ]
  },
  {
   "cell_type": "markdown",
   "metadata": {},
   "source": [
    "### 'propertycountylandusecode'"
   ]
  },
  {
   "cell_type": "code",
   "execution_count": 853,
   "metadata": {
    "collapsed": true
   },
   "outputs": [],
   "source": [
    "#propertycountylandusecode column and it replaces all the nan with the mode of the column\n",
    "df['propertycountylandusecode'] = df['propertycountylandusecode'].apply(lambda x: np.nan if x == 0 else x) \n",
    "#and type(x) is not object else x)    # for a column in train_df, change any zero values to Nan\n",
    "df['propertycountylandusecode'] = df['propertycountylandusecode'].fillna(df['propertycountylandusecode'].mode()[0]) \n",
    "#fill Nan values with mode values"
   ]
  },
  {
   "cell_type": "code",
   "execution_count": 854,
   "metadata": {
    "collapsed": false
   },
   "outputs": [],
   "source": [
    "lb_make = LabelEncoder()\n",
    "df[\"propertycountylandusecode\"] = lb_make.fit_transform(df[\"propertycountylandusecode\"])\n",
    "df[[\"propertycountylandusecode\"]]\n",
    "lb_makeDesc = LabelEncoder()\n",
    "lb_makeDesc = LabelEncoder()\n",
    "df[\"transactiondate\"] = lb_makeDesc.fit_transform(df[\"transactiondate\"])"
   ]
  },
  {
   "cell_type": "markdown",
   "metadata": {},
   "source": [
    "### taxvaluedollarcnt"
   ]
  },
  {
   "cell_type": "code",
   "execution_count": 855,
   "metadata": {
    "collapsed": true
   },
   "outputs": [],
   "source": [
    "df['taxvaluedollarcnt'].fillna(df['taxvaluedollarcnt'].median(), inplace=True)"
   ]
  },
  {
   "cell_type": "markdown",
   "metadata": {},
   "source": [
    "### landtaxvaluedollarcnt"
   ]
  },
  {
   "cell_type": "code",
   "execution_count": 856,
   "metadata": {
    "collapsed": true
   },
   "outputs": [],
   "source": [
    "df['landtaxvaluedollarcnt'].fillna(df['landtaxvaluedollarcnt'].median(), inplace=True)"
   ]
  },
  {
   "cell_type": "markdown",
   "metadata": {},
   "source": [
    "### taxamount"
   ]
  },
  {
   "cell_type": "code",
   "execution_count": 857,
   "metadata": {
    "collapsed": true
   },
   "outputs": [],
   "source": [
    "df['taxamount'].fillna(df['taxamount'].median(), inplace=True)"
   ]
  },
  {
   "cell_type": "markdown",
   "metadata": {},
   "source": [
    "### yearbuilt"
   ]
  },
  {
   "cell_type": "code",
   "execution_count": 858,
   "metadata": {
    "collapsed": false
   },
   "outputs": [],
   "source": [
    "def knn_year(yeardf):\n",
    "    whole = ['latitude','longitude','yearbuilt','parcelid']\n",
    "    base = ['latitude','longitude']\n",
    "    target_column = 'yearbuilt'\n",
    "\n",
    "    null = yeardf[target_column].isnull()\n",
    "    not_null = ~null\n",
    "    num_miss = null.sum()\n",
    "    if num_miss ==0:\n",
    "        print('No Null Values!!!')\n",
    "    else:\n",
    "        X_train = yeardf.loc[not_null, whole].sample(frac = 1)\n",
    "\n",
    "        # X_train.latitude.astype(int)\n",
    "        # X_train.longitude.astype(int)\n",
    "        # X_train.yearbuilt.astype(int)\n",
    "        X=X_train[base].values\n",
    "\n",
    "        y = X_train[target_column].astype(int)\n",
    "        y = y.values\n",
    "\n",
    "        Y_target =yeardf.loc[null, whole].sample(frac = 1)\n",
    "        Y_target.latitude.astype(int)\n",
    "        Y_target.longitude.astype(int)\n",
    "\n",
    "        Y =Y_target[['latitude','longitude']].values\n",
    "\n",
    "        clf = neighbors.KNeighborsClassifier()\n",
    "        clf.fit(X,y)\n",
    "        accuracy = clf.score(X, y)\n",
    "        print(accuracy) \n",
    "\n",
    "        #Y = Y.reshape(len(X), -1)\n",
    "        prediction = clf.predict(Y)\n",
    "        Y_target.loc[Y_target.yearbuilt.isnull(),'yearbuilt'] = prediction\n",
    "        yeardf.loc[yeardf.parcelid.isin(Y_target.parcelid), ['yearbuilt']] = Y_target[['yearbuilt']]"
   ]
  },
  {
   "cell_type": "code",
   "execution_count": 859,
   "metadata": {
    "collapsed": false
   },
   "outputs": [
    {
     "name": "stdout",
     "output_type": "stream",
     "text": [
      "0.574460929517\n"
     ]
    }
   ],
   "source": [
    "knn_year(df)"
   ]
  },
  {
   "cell_type": "markdown",
   "metadata": {},
   "source": [
    "### Adding the 'age' column"
   ]
  },
  {
   "cell_type": "code",
   "execution_count": 860,
   "metadata": {
    "collapsed": true
   },
   "outputs": [],
   "source": [
    "df['age'] =2017-df['yearbuilt']"
   ]
  },
  {
   "cell_type": "markdown",
   "metadata": {},
   "source": [
    "### Dealing with missing calculatedfinishedsquarefeet data"
   ]
  },
  {
   "cell_type": "code",
   "execution_count": 861,
   "metadata": {
    "collapsed": false
   },
   "outputs": [
    {
     "data": {
      "text/plain": [
       "count    77378.000000\n",
       "mean      1784.935421\n",
       "std        954.250373\n",
       "min        128.000000\n",
       "25%       1182.000000\n",
       "50%       1542.000000\n",
       "75%       2112.000000\n",
       "max      35640.000000\n",
       "Name: calculatedfinishedsquarefeet, dtype: float64"
      ]
     },
     "execution_count": 861,
     "metadata": {},
     "output_type": "execute_result"
    }
   ],
   "source": [
    "df.calculatedfinishedsquarefeet.describe()"
   ]
  },
  {
   "cell_type": "code",
   "execution_count": 862,
   "metadata": {
    "collapsed": false
   },
   "outputs": [
    {
     "data": {
      "text/plain": [
       "(48374, 26)"
      ]
     },
     "execution_count": 862,
     "metadata": {},
     "output_type": "execute_result"
    }
   ],
   "source": [
    "df[df['calculatedfinishedsquarefeet']< 1773].shape"
   ]
  },
  {
   "cell_type": "code",
   "execution_count": 863,
   "metadata": {
    "collapsed": false
   },
   "outputs": [
    {
     "data": {
      "text/plain": [
       "(77378, 26)"
      ]
     },
     "execution_count": 863,
     "metadata": {},
     "output_type": "execute_result"
    }
   ],
   "source": [
    "df[df['calculatedfinishedsquarefeet']>=120].shape"
   ]
  },
  {
   "cell_type": "code",
   "execution_count": 864,
   "metadata": {
    "collapsed": false
   },
   "outputs": [
    {
     "data": {
      "text/plain": [
       "201"
      ]
     },
     "execution_count": 864,
     "metadata": {},
     "output_type": "execute_result"
    }
   ],
   "source": [
    "df.calculatedfinishedsquarefeet.isnull().sum()"
   ]
  },
  {
   "cell_type": "code",
   "execution_count": 865,
   "metadata": {
    "collapsed": false
   },
   "outputs": [],
   "source": [
    "# Getting rid of the outliers\n",
    "\n",
    "df = df[df.calculatedfinishedsquarefeet>=120]"
   ]
  },
  {
   "cell_type": "markdown",
   "metadata": {},
   "source": [
    "### structuretaxvaluedollarcnt"
   ]
  },
  {
   "cell_type": "code",
   "execution_count": 866,
   "metadata": {
    "collapsed": false
   },
   "outputs": [
    {
     "data": {
      "text/plain": [
       "97"
      ]
     },
     "execution_count": 866,
     "metadata": {},
     "output_type": "execute_result"
    }
   ],
   "source": [
    "df.structuretaxvaluedollarcnt.isnull().sum()"
   ]
  },
  {
   "cell_type": "code",
   "execution_count": 867,
   "metadata": {
    "collapsed": false,
    "scrolled": true
   },
   "outputs": [
    {
     "data": {
      "text/plain": [
       "count    7.728100e+04\n",
       "mean     1.886669e+05\n",
       "std      2.276902e+05\n",
       "min      4.400000e+01\n",
       "25%      8.425700e+04\n",
       "50%      1.364020e+05\n",
       "75%      2.184210e+05\n",
       "max      1.142179e+07\n",
       "Name: structuretaxvaluedollarcnt, dtype: float64"
      ]
     },
     "execution_count": 867,
     "metadata": {},
     "output_type": "execute_result"
    }
   ],
   "source": [
    "df.structuretaxvaluedollarcnt.describe()"
   ]
  },
  {
   "cell_type": "code",
   "execution_count": 868,
   "metadata": {
    "collapsed": false
   },
   "outputs": [],
   "source": [
    "df['structuretaxvaluedollarcnt'].fillna(df['structuretaxvaluedollarcnt'].median(), inplace=True)"
   ]
  },
  {
   "cell_type": "code",
   "execution_count": 869,
   "metadata": {
    "collapsed": false
   },
   "outputs": [
    {
     "data": {
      "text/plain": [
       "parcelid                           0\n",
       "landtaxvaluedollarcnt              0\n",
       "yearbuilt                          0\n",
       "structuretaxvaluedollarcnt         0\n",
       "calculatedfinishedsquarefeet       0\n",
       "taxvaluedollarcnt                  0\n",
       "taxamount                          0\n",
       "regionidzip                        0\n",
       "propertycountylandusecode          0\n",
       "roomcnt                            0\n",
       "bathroomcnt                        0\n",
       "bedroomcnt                         0\n",
       "latitude                           0\n",
       "longitude                          0\n",
       "regionidcounty                     0\n",
       "rawcensustractandblock             0\n",
       "propertylandusetypeid              0\n",
       "fips                               0\n",
       "month                              0\n",
       "year                               0\n",
       "transactiondate                    0\n",
       "logerror                           0\n",
       "assessmentyear                     0\n",
       "age                                0\n",
       "regionidcity                    1460\n",
       "lotsizesquarefeet               8174\n",
       "dtype: int64"
      ]
     },
     "execution_count": 869,
     "metadata": {},
     "output_type": "execute_result"
    }
   ],
   "source": [
    "df.isnull().sum().sort_values()"
   ]
  },
  {
   "cell_type": "markdown",
   "metadata": {},
   "source": [
    "### lotsizesquarefeet"
   ]
  },
  {
   "cell_type": "code",
   "execution_count": 870,
   "metadata": {
    "collapsed": false
   },
   "outputs": [
    {
     "data": {
      "text/plain": [
       "count    6.920400e+04\n",
       "mean     2.990261e+04\n",
       "std      1.230590e+05\n",
       "min      2.360000e+02\n",
       "25%      5.700000e+03\n",
       "50%      7.205000e+03\n",
       "75%      1.181675e+04\n",
       "max      6.971010e+06\n",
       "Name: lotsizesquarefeet, dtype: float64"
      ]
     },
     "execution_count": 870,
     "metadata": {},
     "output_type": "execute_result"
    }
   ],
   "source": [
    "df.lotsizesquarefeet.describe()"
   ]
  },
  {
   "cell_type": "code",
   "execution_count": 871,
   "metadata": {
    "collapsed": false
   },
   "outputs": [
    {
     "data": {
      "text/plain": [
       "4215     6971010.0\n",
       "8238     3589145.0\n",
       "10779    3589145.0\n",
       "13761    6971010.0\n",
       "16676    6971010.0\n",
       "21877    3589145.0\n",
       "26758    3589145.0\n",
       "27940    6971010.0\n",
       "30341    6971010.0\n",
       "37109    3589145.0\n",
       "53823    6971010.0\n",
       "56566    3589145.0\n",
       "60833    3589145.0\n",
       "65495    3589145.0\n",
       "66935    6971010.0\n",
       "74636    3589145.0\n",
       "Name: lotsizesquarefeet, dtype: float64"
      ]
     },
     "execution_count": 871,
     "metadata": {},
     "output_type": "execute_result"
    }
   ],
   "source": [
    "df['lotsizesquarefeet'][df.lotsizesquarefeet>=3000000]"
   ]
  },
  {
   "cell_type": "code",
   "execution_count": 872,
   "metadata": {
    "collapsed": false
   },
   "outputs": [
    {
     "data": {
      "image/png": "[encoded data removed]",
      "text/plain": [
       "<matplotlib.figure.Figure at 0x11ea412b0>"
      ]
     },
     "metadata": {},
     "output_type": "display_data"
    }
   ],
   "source": [
    "plt.scatter(df['lotsizesquarefeet'],df['logerror'])\n",
    "plt.show()"
   ]
  },
  {
   "cell_type": "code",
   "execution_count": 873,
   "metadata": {
    "collapsed": false
   },
   "outputs": [],
   "source": [
    "# Handling outliers\n",
    "lot_median =df['lotsizesquarefeet'].median()"
   ]
  },
  {
   "cell_type": "code",
   "execution_count": 874,
   "metadata": {
    "collapsed": false
   },
   "outputs": [],
   "source": [
    "df.loc[df.lotsizesquarefeet > 2000000, 'lotsizesquarefeet']= lot_median\n",
    "df['lotsizesquarefeet'].fillna(df['lotsizesquarefeet'].median(), inplace=True)"
   ]
  },
  {
   "cell_type": "markdown",
   "metadata": {},
   "source": [
    "### Regionidcity"
   ]
  },
  {
   "cell_type": "code",
   "execution_count": 875,
   "metadata": {
    "collapsed": false
   },
   "outputs": [
    {
     "data": {
      "text/html": [
       "<div>\n",
       "<table border=\"1\" class=\"dataframe\">\n",
       "  <thead>\n",
       "    <tr style=\"text-align: right;\">\n",
       "      <th></th>\n",
       "      <th>parcelid</th>\n",
       "      <th>regionidcity</th>\n",
       "    </tr>\n",
       "    <tr>\n",
       "      <th>regionidcounty</th>\n",
       "      <th></th>\n",
       "      <th></th>\n",
       "    </tr>\n",
       "  </thead>\n",
       "  <tbody>\n",
       "    <tr>\n",
       "      <th>2061.0</th>\n",
       "      <td>6230</td>\n",
       "      <td>6216</td>\n",
       "    </tr>\n",
       "    <tr>\n",
       "      <th>1286.0</th>\n",
       "      <td>20522</td>\n",
       "      <td>20128</td>\n",
       "    </tr>\n",
       "    <tr>\n",
       "      <th>3101.0</th>\n",
       "      <td>50626</td>\n",
       "      <td>49574</td>\n",
       "    </tr>\n",
       "  </tbody>\n",
       "</table>\n",
       "</div>"
      ],
      "text/plain": [
       "                parcelid  regionidcity\n",
       "regionidcounty                        \n",
       "2061.0              6230          6216\n",
       "1286.0             20522         20128\n",
       "3101.0             50626         49574"
      ]
     },
     "execution_count": 875,
     "metadata": {},
     "output_type": "execute_result"
    }
   ],
   "source": [
    "df[['parcelid','regionidcounty','regionidcity']].groupby('regionidcounty').count().sort_values(by='parcelid')"
   ]
  },
  {
   "cell_type": "code",
   "execution_count": 876,
   "metadata": {
    "collapsed": false
   },
   "outputs": [],
   "source": [
    "def missingcity(m):\n",
    "    city = m[['regionidcounty','parcelid', 'regionidcity']]\n",
    "    Mode = m['regionidcity'].mode()[0]\n",
    "    county= list(city['regionidcounty'].unique())\n",
    "\n",
    "    for c in county:\n",
    "        temp = city[city.regionidcounty == c]\n",
    "        if(temp.shape == temp[temp.isnull().any(axis=1)].shape ):\n",
    "                temp['regionidcity'].fillna(Mode, inplace=True)\n",
    "        else:\n",
    "                c = temp['regionidcity'].mode()[0]\n",
    "                temp['regionidcity'].fillna(c, inplace=True)\n",
    "        city.loc[city.parcelid.isin(temp.parcelid), ['regionidcity']] = temp[['regionidcity']]\n",
    "    city['regionidcity'].fillna(city['regionidcity'].mode()[0], inplace = True)      \n",
    "    m.loc[m.parcelid.isin(city.parcelid), ['regionidcity']] = city[['regionidcity']]"
   ]
  },
  {
   "cell_type": "code",
   "execution_count": 877,
   "metadata": {
    "collapsed": false
   },
   "outputs": [
    {
     "name": "stderr",
     "output_type": "stream",
     "text": [
      "/Users/sonalichaudhari/anaconda/lib/python3.5/site-packages/pandas/core/generic.py:3295: SettingWithCopyWarning: \n",
      "A value is trying to be set on a copy of a slice from a DataFrame\n",
      "\n",
      "See the caveats in the documentation: http://pandas.pydata.org/pandas-docs/stable/indexing.html#indexing-view-versus-copy\n",
      "  self._update_inplace(new_data)\n",
      "/Users/sonalichaudhari/anaconda/lib/python3.5/site-packages/pandas/core/indexing.py:477: SettingWithCopyWarning: \n",
      "A value is trying to be set on a copy of a slice from a DataFrame.\n",
      "Try using .loc[row_indexer,col_indexer] = value instead\n",
      "\n",
      "See the caveats in the documentation: http://pandas.pydata.org/pandas-docs/stable/indexing.html#indexing-view-versus-copy\n",
      "  self.obj[item] = s\n"
     ]
    }
   ],
   "source": [
    "missingcity(df)"
   ]
  },
  {
   "cell_type": "markdown",
   "metadata": {},
   "source": [
    "# Uploading csv to AWS"
   ]
  },
  {
   "cell_type": "code",
   "execution_count": 37,
   "metadata": {
    "collapsed": true
   },
   "outputs": [],
   "source": [
    "AWS_ACCESS_KEY_ID=''\n",
    "AWS_SECRET_ACCESS_KEY=''\n",
    "try:\n",
    "    connect = boto.connect_s3(AWS_ACCESS_KEY_ID,AWS_SECRET_ACCESS_KEY)\n",
    "\n",
    "except:\n",
    "    print(\"incorrect aws access key and/or secret key\")"
   ]
  },
  {
   "cell_type": "code",
   "execution_count": 879,
   "metadata": {
    "collapsed": false
   },
   "outputs": [],
   "source": [
    "# #connection = boto.connect_s3(AWS_ACCESS_KEY_ID, AWS_SECRET_ACCESS_KEY)\n",
    "\n",
    "# #csvFile = 'zillowData.csv'\n",
    "# zipname = \"zillowdata.zip\"\n",
    "# z = zipfile.ZipFile(zipname, \"w\")\n",
    "# z.write('zillowData.csv')\n",
    "# cur_path\n",
    "# bucket_name = 'zillowdatampsc'\n",
    "\n",
    "\n",
    "\n",
    "# loc = boto.s3.connection.Location.USWest\n",
    "\n",
    "# bucket = connect.create_bucket(bucket_name, location=loc)\n",
    "# def percent_cb(complete, total):\n",
    "#     sys.stdout.write('.')\n",
    "#     sys.stdout.flush()\n",
    "\n",
    "# s3key = boto.s3.key.Key(bucket)\n",
    "# s3key.key = zipname\n",
    "# s3key.set_contents_from_filename(zipname, cb=percent_cb, num_cb=10)"
   ]
  },
  {
   "cell_type": "code",
   "execution_count": 888,
   "metadata": {
    "collapsed": false
   },
   "outputs": [
    {
     "data": {
      "text/plain": [
       "parcelid                        0\n",
       "logerror                        0\n",
       "transactiondate                 0\n",
       "year                            0\n",
       "month                           0\n",
       "fips                            0\n",
       "propertylandusetypeid           0\n",
       "rawcensustractandblock          0\n",
       "regionidcounty                  0\n",
       "longitude                       0\n",
       "latitude                        0\n",
       "assessmentyear                  0\n",
       "bedroomcnt                      0\n",
       "bathroomcnt                     0\n",
       "roomcnt                         0\n",
       "propertycountylandusecode       0\n",
       "regionidzip                     0\n",
       "taxamount                       0\n",
       "taxvaluedollarcnt               0\n",
       "calculatedfinishedsquarefeet    0\n",
       "structuretaxvaluedollarcnt      0\n",
       "yearbuilt                       0\n",
       "landtaxvaluedollarcnt           0\n",
       "regionidcity                    0\n",
       "lotsizesquarefeet               0\n",
       "age                             0\n",
       "dtype: int64"
      ]
     },
     "execution_count": 888,
     "metadata": {},
     "output_type": "execute_result"
    }
   ],
   "source": [
    "df.isnull().sum()"
   ]
  },
  {
   "cell_type": "markdown",
   "metadata": {},
   "source": [
    "### Coverting to csv"
   ]
  },
  {
   "cell_type": "code",
   "execution_count": 899,
   "metadata": {
    "collapsed": false
   },
   "outputs": [],
   "source": [
    "# df.to_csv('/Users/sonalichaudhari/Desktop/ADS_MidTerm/Data/New_Data/Clean_2016.csv', sep=',')\n",
    "df.to_csv('/Users/sonalichaudhari/Desktop/ADS_MidTerm/Data/New_Data/Clean_2017.csv', sep=',')\n",
    "#df"
   ]
  },
  {
   "cell_type": "code",
   "execution_count": 900,
   "metadata": {
    "collapsed": true
   },
   "outputs": [],
   "source": [
    "df2016 = pd.read_csv('/Users/sonalichaudhari/Desktop/ADS_MidTerm/Data/New_Data/Clean_2016.csv',low_memory=False)\n",
    "del df2016['Unnamed: 0']"
   ]
  },
  {
   "cell_type": "code",
   "execution_count": 893,
   "metadata": {
    "collapsed": false
   },
   "outputs": [],
   "source": [
    "#del df_concat['index']\n",
    "#df2016"
   ]
  },
  {
   "cell_type": "code",
   "execution_count": 901,
   "metadata": {
    "collapsed": false
   },
   "outputs": [],
   "source": [
    "df_concat = pd.concat([df2016, df]).reset_index()\n",
    "del df_concat['index']"
   ]
  },
  {
   "cell_type": "code",
   "execution_count": 904,
   "metadata": {
    "collapsed": false
   },
   "outputs": [
    {
     "data": {
      "text/plain": [
       "(166989, 26)"
      ]
     },
     "execution_count": 904,
     "metadata": {},
     "output_type": "execute_result"
    }
   ],
   "source": [
    "df_concat.shape"
   ]
  },
  {
   "cell_type": "code",
   "execution_count": 905,
   "metadata": {
    "collapsed": false
   },
   "outputs": [
    {
     "data": {
      "text/plain": [
       "(89611, 26)"
      ]
     },
     "execution_count": 905,
     "metadata": {},
     "output_type": "execute_result"
    }
   ],
   "source": [
    "df2016.shape"
   ]
  },
  {
   "cell_type": "code",
   "execution_count": 906,
   "metadata": {
    "collapsed": true
   },
   "outputs": [],
   "source": [
    "df_concat.to_csv('/Users/sonalichaudhari/Desktop/ADS_MidTerm/Data/New_Data/Clean_Combined.csv', sep=',')\n",
    "\n"
   ]
  },
  {
   "cell_type": "code",
   "execution_count": null,
   "metadata": {
    "collapsed": true
   },
   "outputs": [],
   "source": []
  }
 ],
 "metadata": {
  "anaconda-cloud": {},
  "kernelspec": {
   "display_name": "Python [default]",
   "language": "python",
   "name": "python3"
  },
  "language_info": {
   "codemirror_mode": {
    "name": "ipython",
    "version": 3
   },
   "file_extension": ".py",
   "mimetype": "text/x-python",
   "name": "python",
   "nbconvert_exporter": "python",
   "pygments_lexer": "ipython3",
   "version": "3.5.2"
  }
 },
 "nbformat": 4,
 "nbformat_minor": 2
}
