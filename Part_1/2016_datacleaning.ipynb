{
 "cells": [
  {
   "cell_type": "markdown",
   "metadata": {
    "collapsed": false
   },
   "source": [
    "# Part1 - Data Wrangling"
   ]
  },
  {
   "cell_type": "markdown",
   "metadata": {},
   "source": [
    "### Imports"
   ]
  },
  {
   "cell_type": "code",
   "execution_count": 4,
   "metadata": {
    "collapsed": true
   },
   "outputs": [],
   "source": [
    "import numpy as np \n",
    "import pandas as pd\n",
    "import os\n",
    "\n",
    "# import sys\n",
    "# import boto\n",
    "# from boto.s3.key import Key\n",
    "# import zipfile\n",
    "# import boto.s3.connection\n",
    "# from os.path import basename\n",
    "# color = sns.color_palette()\n",
    "# from sklearn.neighbors import KNeighborsClassifier\n",
    "# from sklearn import preprocessing, neighbors"
   ]
  },
  {
   "cell_type": "code",
   "execution_count": null,
   "metadata": {
    "collapsed": true
   },
   "outputs": [],
   "source": []
  },
  {
   "cell_type": "code",
   "execution_count": 252,
   "metadata": {
    "collapsed": false
   },
   "outputs": [],
   "source": [
    "details_2016 = pd.read_csv('/Users/sonalichaudhari/Desktop/ADS_MidTerm/Data/properties_2016.csv',low_memory=False)\n",
    "details_2017 = pd.read_csv('/Users/sonalichaudhari/Desktop/ADS_MidTerm/Data/properties_2017.csv',low_memory=False)\n",
    "trans_2016 = pd.read_csv('/Users/sonalichaudhari/Desktop/ADS_MidTerm/Data/train_2016_v2.csv',low_memory=False)\n",
    "trans_2017 = pd.read_csv('/Users/sonalichaudhari/Desktop/ADS_MidTerm/Data/train_2017.csv',low_memory=False)"
   ]
  },
  {
   "cell_type": "code",
   "execution_count": 253,
   "metadata": {
    "collapsed": true
   },
   "outputs": [],
   "source": [
    "def messingDataCount(yeardf):\n",
    "    missing_data = yeardf.isnull().sum().to_frame(name='Missing_Count').reset_index()\n",
    "    missing_data['Missing_percent'] = (missing_data['Missing_Count']/yeardf.shape[0])*100\n",
    "    missing_data.head()\n",
    "    missing_data = missing_data.sort_values(by='Missing_percent', axis=0, ascending=True)\n",
    "    features = missing_data['index'][(missing_data.Missing_percent <30)]\n",
    "    return features"
   ]
  },
  {
   "cell_type": "code",
   "execution_count": 254,
   "metadata": {
    "collapsed": true
   },
   "outputs": [],
   "source": [
    "features = messingDataCount(details_2016)\n",
    "# Including on the features in the merge data\n",
    "details_2016_gf = details_2016[features]"
   ]
  },
  {
   "cell_type": "code",
   "execution_count": 255,
   "metadata": {
    "collapsed": true
   },
   "outputs": [],
   "source": [
    "# Separating the year and month from the transactiondate column\n",
    "def transactionColumnSeperation(transactiondf):\n",
    "    transactiondf['transactiondate'] = pd.to_datetime(transactiondf['transactiondate'])\n",
    "    transactiondf['year'] = transactiondf['transactiondate'].dt.year\n",
    "    transactiondf['month'] = transactiondf['transactiondate'].dt.month"
   ]
  },
  {
   "cell_type": "code",
   "execution_count": 256,
   "metadata": {
    "collapsed": true
   },
   "outputs": [],
   "source": [
    "transactionColumnSeperation(trans_2016)"
   ]
  },
  {
   "cell_type": "code",
   "execution_count": 257,
   "metadata": {
    "collapsed": true
   },
   "outputs": [],
   "source": [
    "merge_2016 = pd.merge(trans_2016,details_2016_gf,on='parcelid')"
   ]
  },
  {
   "cell_type": "code",
   "execution_count": 259,
   "metadata": {
    "collapsed": true
   },
   "outputs": [],
   "source": [
    "features = messingDataCount(details_2017)\n",
    "# Including on the features in the merge data\n",
    "details_2017_gf = details_2017[features]"
   ]
  },
  {
   "cell_type": "code",
   "execution_count": 261,
   "metadata": {
    "collapsed": true
   },
   "outputs": [],
   "source": [
    "transactionColumnSeperation(trans_2017)"
   ]
  },
  {
   "cell_type": "code",
   "execution_count": 262,
   "metadata": {
    "collapsed": true
   },
   "outputs": [],
   "source": [
    "merge_2017 = pd.merge(trans_2017,details_2017_gf,on='parcelid')"
   ]
  },
  {
   "cell_type": "markdown",
   "metadata": {},
   "source": [
    "# Dealing with redundant columns"
   ]
  },
  {
   "cell_type": "code",
   "execution_count": 264,
   "metadata": {
    "collapsed": true
   },
   "outputs": [],
   "source": [
    "def deleteRedundantColumns(specificYear):\n",
    "    # Missing rows in the columns\n",
    "    specificYear[['bathroomcnt','fullbathcnt','calculatedbathnbr']].isnull().sum().sort_values()\n",
    "    del specificYear['fullbathcnt']\n",
    "    del specificYear['calculatedbathnbr']"
   ]
  },
  {
   "cell_type": "code",
   "execution_count": 265,
   "metadata": {
    "collapsed": true
   },
   "outputs": [],
   "source": [
    "deleteRedundantColumns(merge_2016)\n",
    "deleteRedundantColumns(merge_2017)"
   ]
  },
  {
   "cell_type": "markdown",
   "metadata": {},
   "source": [
    "# 'calculatedfinishedsquarefeet' and 'finishedsquarefeet12' are the same meaning columns"
   ]
  },
  {
   "cell_type": "code",
   "execution_count": 266,
   "metadata": {
    "collapsed": true
   },
   "outputs": [],
   "source": [
    "# Missing rows in the columns\n",
    "def finishedSquarefeet(spYear):\n",
    "    spYear[['calculatedfinishedsquarefeet','finishedsquarefeet12']].isnull().sum().sort_values()\n",
    "    #Dropping column 'finishedsquarefeet12'\n",
    "    del spYear['finishedsquarefeet12']\n"
   ]
  },
  {
   "cell_type": "code",
   "execution_count": 267,
   "metadata": {
    "collapsed": true
   },
   "outputs": [],
   "source": [
    "finishedSquarefeet(merge_2016)\n",
    "finishedSquarefeet(merge_2017)"
   ]
  },
  {
   "cell_type": "markdown",
   "metadata": {},
   "source": [
    "# Removing nan Latitude and longitude (minimal nan values)"
   ]
  },
  {
   "cell_type": "code",
   "execution_count": 268,
   "metadata": {
    "collapsed": false,
    "scrolled": true
   },
   "outputs": [],
   "source": [
    "#merge_2016.dropna(subset=['latitude'])\n",
    "merge_2017 = merge_2017.dropna(subset=['latitude'])"
   ]
  },
  {
   "cell_type": "markdown",
   "metadata": {},
   "source": [
    "# filling the missing data in 'heatingorsystemtypeid' column"
   ]
  },
  {
   "cell_type": "code",
   "execution_count": 269,
   "metadata": {
    "collapsed": true
   },
   "outputs": [],
   "source": [
    "def heavingSystemMissingData(specYear):\n",
    "    heat = specYear[['parcelid','yearbuilt','heatingorsystemtypeid']]\n",
    "    # The system used the most \n",
    "    Mode = specYear['heatingorsystemtypeid'].mode()[0]\n",
    "\n",
    "    year = list(specYear['yearbuilt'].unique())\n",
    "    heat_system= {}\n",
    "    for y in year:\n",
    "        temp = heat[heat.yearbuilt== y]\n",
    "        #sys = temp[\"heatingorsystemtypeid\"][(temp['count']==m)].values[0]\n",
    "        #heat_system[y]= sys\n",
    "        #temp['heatingorsystemtypeid']=temp['heatingorsystemtypeid'].replace(['nan'], m\n",
    "        if(temp.shape == temp[temp.isnull().any(axis=1)].shape ):\n",
    "            temp['heatingorsystemtypeid'].fillna(Mode, inplace=True)\n",
    "        else:\n",
    "            m = temp['heatingorsystemtypeid'].mode()[0]\n",
    "            temp['heatingorsystemtypeid'].fillna(m, inplace=True)\n",
    "        heat.loc[heat.parcelid.isin(temp.parcelid), ['heatingorsystemtypeid']] = temp[['heatingorsystemtypeid']]\n",
    "    heat['heatingorsystemtypeid'].fillna(heat['heatingorsystemtypeid'].mode()[0], inplace = True)      \n",
    "    specYear.loc[specYear.parcelid.isin(heat.parcelid), ['heatingorsystemtypeid']] = heat[['heatingorsystemtypeid']]"
   ]
  },
  {
   "cell_type": "code",
   "execution_count": 270,
   "metadata": {
    "collapsed": false
   },
   "outputs": [],
   "source": [
    "#heavingSystemMissingData(merge_2016)\n",
    "#heavingSystemMissingData(merge_2017)"
   ]
  },
  {
   "cell_type": "code",
   "execution_count": 271,
   "metadata": {
    "collapsed": false
   },
   "outputs": [],
   "source": [
    "#merge_2016['heatingorsystemtypeid'].fillna(merge_2016['heatingorsystemtypeid'].mode()[0],  inplace=True)"
   ]
  },
  {
   "cell_type": "markdown",
   "metadata": {},
   "source": [
    "# Catagorical Data"
   ]
  },
  {
   "cell_type": "markdown",
   "metadata": {},
   "source": [
    "## Mising Data"
   ]
  },
  {
   "cell_type": "code",
   "execution_count": 272,
   "metadata": {
    "collapsed": true
   },
   "outputs": [],
   "source": [
    "def propertyCountylandCodeFillNAN (sampleDf):\n",
    "    #This is for the propertycountylandusecode column and it replaces all the nan with the mode of the column\n",
    "    sampleDf['propertycountylandusecode'] = sampleDf['propertycountylandusecode'].apply(lambda x: np.nan if x == 0 else x) #and type(x) is not object else x)    # for a column in train_df, change any zero values to Nan\n",
    "    sampleDf['propertycountylandusecode'] = sampleDf['propertycountylandusecode'].fillna(sampleDf['propertycountylandusecode'].mode()[0]) #fill Nan values with mode values"
   ]
  },
  {
   "cell_type": "code",
   "execution_count": 273,
   "metadata": {
    "collapsed": true
   },
   "outputs": [],
   "source": [
    "propertyCountylandCodeFillNAN (merge_2016)\n",
    "propertyCountylandCodeFillNAN (merge_2017)"
   ]
  },
  {
   "cell_type": "code",
   "execution_count": 275,
   "metadata": {
    "collapsed": true
   },
   "outputs": [],
   "source": [
    "def propertyzoningdescNanValues(dataFrame):\n",
    "    #Creating another dataframe from the main 2017 merged dataframe to just have these three columns\n",
    "    propertyLandUseCodedf = dataFrame[['parcelid','propertycountylandusecode', 'propertyzoningdesc']]\n",
    "    #Finding the mode of the propertyzoningdesc column\n",
    "    propMode = propertyLandUseCodedf['propertyzoningdesc'].mode()[0]\n",
    "\n",
    "    #Looping through each unique code od the propertycountylandusecode\n",
    "    for code in list(propertyLandUseCodedf['propertycountylandusecode'].unique()):\n",
    "        #For each code that comes in I am creating another dataframe that contains al the rows with just these propertyCounty codes\n",
    "        tempdf = propertyLandUseCodedf.loc[propertyLandUseCodedf['propertycountylandusecode'] == code]\n",
    "        #First validating that if all the rows in this tempdf has null then I will replace the nan with the overall mode from propMode\n",
    "        if(tempdf.shape == tempdf[tempdf.isnull().any(axis=1)].shape ):\n",
    "            tempdf['propertyzoningdesc'].fillna(propMode, inplace=True)\n",
    "        #If this is not the case then I am finding the mode of the tempdf during each loop and replacing na with the mode\n",
    "        else:\n",
    "            themode = tempdf['propertyzoningdesc'].mode()[0]\n",
    "            tempdf['propertyzoningdesc'].fillna(themode, inplace=True)\n",
    "        #After each loop I am replacing all the values in the propertyLandUseCodedf with the vales from tempdf based on the parcelid\n",
    "        propertyLandUseCodedf.loc[propertyLandUseCodedf.parcelid.isin(tempdf.parcelid), ['propertyzoningdesc']] = tempdf[['propertyzoningdesc']]\n",
    "    #here I am replacing the whole column in main df with the propertyLandUseCodedf based on parcelid\n",
    "    dataFrame.loc[dataFrame.parcelid.isin(propertyLandUseCodedf.parcelid), ['propertyzoningdesc']] = propertyLandUseCodedf[['propertyzoningdesc']]"
   ]
  },
  {
   "cell_type": "code",
   "execution_count": 276,
   "metadata": {
    "collapsed": false
   },
   "outputs": [],
   "source": [
    "# propertyzoningdescNanValues(merge_2016)\n",
    "# propertyzoningdescNanValues(merge_2017)"
   ]
  },
  {
   "cell_type": "markdown",
   "metadata": {},
   "source": [
    "## Dummy Variables Replacement"
   ]
  },
  {
   "cell_type": "code",
   "execution_count": 277,
   "metadata": {
    "collapsed": true
   },
   "outputs": [],
   "source": [
    "def replaceStrWithDummyVar (maindf):\n",
    "    lb_make = LabelEncoder()\n",
    "    maindf[\"propertycountylandusecode\"] = lb_make.fit_transform(maindf[\"propertycountylandusecode\"])\n",
    "    maindf[[\"propertycountylandusecode\"]]\n",
    "    lb_makeDesc = LabelEncoder()\n",
    "    #maindf[\"propertyzoningdesc\"] = lb_makeDesc.fit_transform(maindf[\"propertyzoningdesc\"])\n",
    "    #maindf[[\"propertyzoningdesc\"]]\n",
    "    lb_makeDesc = LabelEncoder()\n",
    "    maindf[\"transactiondate\"] = lb_makeDesc.fit_transform(maindf[\"transactiondate\"])\n",
    "    maindf[[\"transactiondate\"]]"
   ]
  },
  {
   "cell_type": "code",
   "execution_count": 278,
   "metadata": {
    "collapsed": true
   },
   "outputs": [],
   "source": [
    "replaceStrWithDummyVar(merge_2016)\n",
    "replaceStrWithDummyVar(merge_2017)"
   ]
  },
  {
   "cell_type": "markdown",
   "metadata": {},
   "source": [
    "# KNN "
   ]
  },
  {
   "cell_type": "markdown",
   "metadata": {},
   "source": [
    "## 'yearbuilt'"
   ]
  },
  {
   "cell_type": "code",
   "execution_count": 279,
   "metadata": {
    "collapsed": false
   },
   "outputs": [
    {
     "name": "stdout",
     "output_type": "stream",
     "text": [
      "0.589517309175\n"
     ]
    }
   ],
   "source": [
    "# 'yearbuilt' column\n",
    "\n",
    "#def yearbuilt(y):\n",
    "whole = ['latitude','longitude','yearbuilt','parcelid']\n",
    "base = ['latitude','longitude']#,'parcelid'\n",
    "target_column = 'yearbuilt'\n",
    "\n",
    "null = merge_2016[target_column].isnull()\n",
    "not_null = ~null\n",
    "num_miss = null.sum()\n",
    "num_miss\n",
    "\n",
    "X_train = merge_2016.loc[not_null, whole].sample(frac = 1)\n",
    "\n",
    "X_train.latitude.astype(int)\n",
    "X_train.longitude.astype(int)\n",
    "X_train.yearbuilt.astype(int)\n",
    "X=X_train[base].values\n",
    "\n",
    "y = X_train[target_column].astype(int)\n",
    "y = y.values\n",
    "\n",
    "Y_target =merge_2016.loc[null, whole].sample(frac = 1)\n",
    "Y_target.latitude.astype(int)\n",
    "Y_target.longitude.astype(int)\n",
    "\n",
    "Y =Y_target[['latitude','longitude']].values\n",
    "\n",
    "clf = neighbors.KNeighborsClassifier()\n",
    "clf.fit(X,y)\n",
    "accuracy = clf.score(X, y) #test\n",
    "print(accuracy) #this works fine\n",
    "\n",
    "#Y = Y.reshape(len(X), -1)\n",
    "prediction = clf.predict(Y)"
   ]
  },
  {
   "cell_type": "code",
   "execution_count": 280,
   "metadata": {
    "collapsed": false
   },
   "outputs": [],
   "source": [
    "Y_target.loc[Y_target.yearbuilt.isnull(),'yearbuilt'] = prediction\n",
    "merge_2016.loc[merge_2016.parcelid.isin(Y_target.parcelid), ['yearbuilt']] = Y_target[['yearbuilt']]"
   ]
  },
  {
   "cell_type": "code",
   "execution_count": 283,
   "metadata": {
    "collapsed": false
   },
   "outputs": [
    {
     "data": {
      "text/plain": [
       "calculatedfinishedsquarefeet    0\n",
       "dtype: int64"
      ]
     },
     "execution_count": 283,
     "metadata": {},
     "output_type": "execute_result"
    }
   ],
   "source": [
    "merge_2016[['calculatedfinishedsquarefeet']].isnull().sum()"
   ]
  },
  {
   "cell_type": "markdown",
   "metadata": {},
   "source": [
    "## KNN calculatedfinishedsquarefeet"
   ]
  },
  {
   "cell_type": "code",
   "execution_count": 282,
   "metadata": {
    "collapsed": false
   },
   "outputs": [
    {
     "name": "stdout",
     "output_type": "stream",
     "text": [
      "0.00707478742161\n"
     ]
    }
   ],
   "source": [
    "base = 'roomcnt','bedroomcnt','bathroomcnt','calculatedfinishedsquarefeet','parcelid'\n",
    "target_column = 'calculatedfinishedsquarefeet'\n",
    "\n",
    "null = merge_2016[target_column].isnull()\n",
    "not_null = ~null\n",
    "num_miss = null.sum()\n",
    "num_miss\n",
    "\n",
    "X_train = merge_2016.loc[not_null, base].sample(frac = 1)\n",
    "\n",
    "X_train.roomcnt.astype(int)\n",
    "X_train.bedroomcnt.astype(int)\n",
    "X_train.bathroomcnt.astype(int)\n",
    "X_train.calculatedfinishedsquarefeet.astype(int)\n",
    "X=X_train[['roomcnt','bedroomcnt','bathroomcnt']].values\n",
    "\n",
    "y = X_train[target_column].astype(int)\n",
    "y = y.values\n",
    "\n",
    "Y_target =merge_2016.loc[null, base].sample(frac = 1)\n",
    "Y_target.roomcnt.astype(int)\n",
    "Y_target.bedroomcnt.astype(int)\n",
    "Y_target.bathroomcnt.astype(int)\n",
    "\n",
    "Y =Y_target[['roomcnt','bedroomcnt','bathroomcnt']].values\n",
    "\n",
    "clf = neighbors.KNeighborsClassifier()\n",
    "clf.fit(X,y)\n",
    "accuracy = clf.score(X, y) #test\n",
    "print(accuracy) #this works fine\n",
    "\n",
    "#Y = Y.reshape(len(X), -1)\n",
    "prediction = clf.predict(Y)\n",
    "prediction[0]\n",
    "\n",
    "Y_target.loc[Y_target.calculatedfinishedsquarefeet.isnull(),'calculatedfinishedsquarefeet'] = prediction\n",
    "merge_2016.loc[merge_2016.parcelid.isin(Y_target.parcelid), ['calculatedfinishedsquarefeet']] = Y_target[['calculatedfinishedsquarefeet']]"
   ]
  },
  {
   "cell_type": "markdown",
   "metadata": {},
   "source": [
    "# Additional columns"
   ]
  },
  {
   "cell_type": "code",
   "execution_count": 284,
   "metadata": {
    "collapsed": true
   },
   "outputs": [],
   "source": [
    "def ageColumn(yeardataf):\n",
    "    yeardataf['age'] =2017-yeardataf['yearbuilt']"
   ]
  },
  {
   "cell_type": "code",
   "execution_count": 285,
   "metadata": {
    "collapsed": false
   },
   "outputs": [],
   "source": [
    "ageColumn(merge_2016)\n",
    "ageColumn(merge_2017)"
   ]
  },
  {
   "cell_type": "markdown",
   "metadata": {},
   "source": [
    "# Concatinating the 2016 and 2017 dataframes"
   ]
  },
  {
   "cell_type": "code",
   "execution_count": 286,
   "metadata": {
    "collapsed": true
   },
   "outputs": [],
   "source": [
    "df_concat = pd.concat([merge_2016, merge_2017])"
   ]
  },
  {
   "cell_type": "markdown",
   "metadata": {},
   "source": [
    "# Reading file into CSV"
   ]
  },
  {
   "cell_type": "code",
   "execution_count": 287,
   "metadata": {
    "collapsed": true
   },
   "outputs": [],
   "source": [
    "directory = os.path.dirname(os.getcwd()) \n",
    "cur_path = directory+'\\\\Assignment2'\n",
    "cur_path\n",
    "df_concat.to_csv('zillowData.csv', sep=',')"
   ]
  },
  {
   "cell_type": "markdown",
   "metadata": {},
   "source": [
    "# Uploading csv to AWS"
   ]
  },
  {
   "cell_type": "code",
   "execution_count": 37,
   "metadata": {
    "collapsed": true
   },
   "outputs": [],
   "source": [
    "AWS_ACCESS_KEY_ID=''\n",
    "AWS_SECRET_ACCESS_KEY=''\n",
    "try:\n",
    "    connect = boto.connect_s3(AWS_ACCESS_KEY_ID,AWS_SECRET_ACCESS_KEY)\n",
    "\n",
    "except:\n",
    "    print(\"incorrect aws access key and/or secret key\")"
   ]
  },
  {
   "cell_type": "code",
   "execution_count": 38,
   "metadata": {
    "collapsed": true
   },
   "outputs": [
    {
     "name": "stdout",
     "output_type": "stream",
     "text": [
      "......."
     ]
    },
    {
     "ename": "ConnectionAbortedError",
     "evalue": "[WinError 10053] An established connection was aborted by the software in your host machine",
     "output_type": "error",
     "traceback": [
      "\u001b[1;31m---------------------------------------------------------------------------\u001b[0m",
      "\u001b[1;31mConnectionAbortedError\u001b[0m                    Traceback (most recent call last)",
      "\u001b[1;32m<ipython-input-38-8cd7add1d880>\u001b[0m in \u001b[0;36m<module>\u001b[1;34m()\u001b[0m\n\u001b[0;32m     19\u001b[0m \u001b[0ms3key\u001b[0m \u001b[1;33m=\u001b[0m \u001b[0mboto\u001b[0m\u001b[1;33m.\u001b[0m\u001b[0ms3\u001b[0m\u001b[1;33m.\u001b[0m\u001b[0mkey\u001b[0m\u001b[1;33m.\u001b[0m\u001b[0mKey\u001b[0m\u001b[1;33m(\u001b[0m\u001b[0mbucket\u001b[0m\u001b[1;33m)\u001b[0m\u001b[1;33m\u001b[0m\u001b[0m\n\u001b[0;32m     20\u001b[0m \u001b[0ms3key\u001b[0m\u001b[1;33m.\u001b[0m\u001b[0mkey\u001b[0m \u001b[1;33m=\u001b[0m \u001b[0mzipname\u001b[0m\u001b[1;33m\u001b[0m\u001b[0m\n\u001b[1;32m---> 21\u001b[1;33m \u001b[0ms3key\u001b[0m\u001b[1;33m.\u001b[0m\u001b[0mset_contents_from_filename\u001b[0m\u001b[1;33m(\u001b[0m\u001b[0mzipname\u001b[0m\u001b[1;33m,\u001b[0m \u001b[0mcb\u001b[0m\u001b[1;33m=\u001b[0m\u001b[0mpercent_cb\u001b[0m\u001b[1;33m,\u001b[0m \u001b[0mnum_cb\u001b[0m\u001b[1;33m=\u001b[0m\u001b[1;36m10\u001b[0m\u001b[1;33m)\u001b[0m\u001b[1;33m\u001b[0m\u001b[0m\n\u001b[0m",
      "\u001b[1;32mC:\\Users\\madhu\\Anaconda3\\lib\\site-packages\\boto\\s3\\key.py\u001b[0m in \u001b[0;36mset_contents_from_filename\u001b[1;34m(self, filename, headers, replace, cb, num_cb, policy, md5, reduced_redundancy, encrypt_key)\u001b[0m\n\u001b[0;32m   1360\u001b[0m                                                \u001b[0mnum_cb\u001b[0m\u001b[1;33m,\u001b[0m \u001b[0mpolicy\u001b[0m\u001b[1;33m,\u001b[0m \u001b[0mmd5\u001b[0m\u001b[1;33m,\u001b[0m\u001b[1;33m\u001b[0m\u001b[0m\n\u001b[0;32m   1361\u001b[0m                                                \u001b[0mreduced_redundancy\u001b[0m\u001b[1;33m,\u001b[0m\u001b[1;33m\u001b[0m\u001b[0m\n\u001b[1;32m-> 1362\u001b[1;33m                                                encrypt_key=encrypt_key)\n\u001b[0m\u001b[0;32m   1363\u001b[0m \u001b[1;33m\u001b[0m\u001b[0m\n\u001b[0;32m   1364\u001b[0m     def set_contents_from_string(self, string_data, headers=None, replace=True,\n",
      "\u001b[1;32mC:\\Users\\madhu\\Anaconda3\\lib\\site-packages\\boto\\s3\\key.py\u001b[0m in \u001b[0;36mset_contents_from_file\u001b[1;34m(self, fp, headers, replace, cb, num_cb, policy, md5, reduced_redundancy, query_args, encrypt_key, size, rewind)\u001b[0m\n\u001b[0;32m   1291\u001b[0m             self.send_file(fp, headers=headers, cb=cb, num_cb=num_cb,\n\u001b[0;32m   1292\u001b[0m                            \u001b[0mquery_args\u001b[0m\u001b[1;33m=\u001b[0m\u001b[0mquery_args\u001b[0m\u001b[1;33m,\u001b[0m\u001b[1;33m\u001b[0m\u001b[0m\n\u001b[1;32m-> 1293\u001b[1;33m                            chunked_transfer=chunked_transfer, size=size)\n\u001b[0m\u001b[0;32m   1294\u001b[0m             \u001b[1;31m# return number of bytes written.\u001b[0m\u001b[1;33m\u001b[0m\u001b[1;33m\u001b[0m\u001b[0m\n\u001b[0;32m   1295\u001b[0m             \u001b[1;32mreturn\u001b[0m \u001b[0mself\u001b[0m\u001b[1;33m.\u001b[0m\u001b[0msize\u001b[0m\u001b[1;33m\u001b[0m\u001b[0m\n",
      "\u001b[1;32mC:\\Users\\madhu\\Anaconda3\\lib\\site-packages\\boto\\s3\\key.py\u001b[0m in \u001b[0;36msend_file\u001b[1;34m(self, fp, headers, cb, num_cb, query_args, chunked_transfer, size)\u001b[0m\n\u001b[0;32m    748\u001b[0m         self._send_file_internal(fp, headers=headers, cb=cb, num_cb=num_cb,\n\u001b[0;32m    749\u001b[0m                                  \u001b[0mquery_args\u001b[0m\u001b[1;33m=\u001b[0m\u001b[0mquery_args\u001b[0m\u001b[1;33m,\u001b[0m\u001b[1;33m\u001b[0m\u001b[0m\n\u001b[1;32m--> 750\u001b[1;33m                                  chunked_transfer=chunked_transfer, size=size)\n\u001b[0m\u001b[0;32m    751\u001b[0m \u001b[1;33m\u001b[0m\u001b[0m\n\u001b[0;32m    752\u001b[0m     def _send_file_internal(self, fp, headers=None, cb=None, num_cb=10,\n",
      "\u001b[1;32mC:\\Users\\madhu\\Anaconda3\\lib\\site-packages\\boto\\s3\\key.py\u001b[0m in \u001b[0;36m_send_file_internal\u001b[1;34m(self, fp, headers, cb, num_cb, query_args, chunked_transfer, size, hash_algs)\u001b[0m\n\u001b[0;32m    949\u001b[0m             \u001b[0mheaders\u001b[0m\u001b[1;33m,\u001b[0m\u001b[1;33m\u001b[0m\u001b[0m\n\u001b[0;32m    950\u001b[0m             \u001b[0msender\u001b[0m\u001b[1;33m=\u001b[0m\u001b[0msender\u001b[0m\u001b[1;33m,\u001b[0m\u001b[1;33m\u001b[0m\u001b[0m\n\u001b[1;32m--> 951\u001b[1;33m             \u001b[0mquery_args\u001b[0m\u001b[1;33m=\u001b[0m\u001b[0mquery_args\u001b[0m\u001b[1;33m\u001b[0m\u001b[0m\n\u001b[0m\u001b[0;32m    952\u001b[0m         )\n\u001b[0;32m    953\u001b[0m         \u001b[0mself\u001b[0m\u001b[1;33m.\u001b[0m\u001b[0mhandle_version_headers\u001b[0m\u001b[1;33m(\u001b[0m\u001b[0mresp\u001b[0m\u001b[1;33m,\u001b[0m \u001b[0mforce\u001b[0m\u001b[1;33m=\u001b[0m\u001b[1;32mTrue\u001b[0m\u001b[1;33m)\u001b[0m\u001b[1;33m\u001b[0m\u001b[0m\n",
      "\u001b[1;32mC:\\Users\\madhu\\Anaconda3\\lib\\site-packages\\boto\\s3\\connection.py\u001b[0m in \u001b[0;36mmake_request\u001b[1;34m(self, method, bucket, key, headers, data, query_args, sender, override_num_retries, retry_handler)\u001b[0m\n\u001b[0;32m    666\u001b[0m             \u001b[0mdata\u001b[0m\u001b[1;33m,\u001b[0m \u001b[0mhost\u001b[0m\u001b[1;33m,\u001b[0m \u001b[0mauth_path\u001b[0m\u001b[1;33m,\u001b[0m \u001b[0msender\u001b[0m\u001b[1;33m,\u001b[0m\u001b[1;33m\u001b[0m\u001b[0m\n\u001b[0;32m    667\u001b[0m             \u001b[0moverride_num_retries\u001b[0m\u001b[1;33m=\u001b[0m\u001b[0moverride_num_retries\u001b[0m\u001b[1;33m,\u001b[0m\u001b[1;33m\u001b[0m\u001b[0m\n\u001b[1;32m--> 668\u001b[1;33m             \u001b[0mretry_handler\u001b[0m\u001b[1;33m=\u001b[0m\u001b[0mretry_handler\u001b[0m\u001b[1;33m\u001b[0m\u001b[0m\n\u001b[0m\u001b[0;32m    669\u001b[0m         )\n",
      "\u001b[1;32mC:\\Users\\madhu\\Anaconda3\\lib\\site-packages\\boto\\connection.py\u001b[0m in \u001b[0;36mmake_request\u001b[1;34m(self, method, path, headers, data, host, auth_path, sender, override_num_retries, params, retry_handler)\u001b[0m\n\u001b[0;32m   1069\u001b[0m                                                     params, headers, data, host)\n\u001b[0;32m   1070\u001b[0m         return self._mexe(http_request, sender, override_num_retries,\n\u001b[1;32m-> 1071\u001b[1;33m                           retry_handler=retry_handler)\n\u001b[0m\u001b[0;32m   1072\u001b[0m \u001b[1;33m\u001b[0m\u001b[0m\n\u001b[0;32m   1073\u001b[0m     \u001b[1;32mdef\u001b[0m \u001b[0mclose\u001b[0m\u001b[1;33m(\u001b[0m\u001b[0mself\u001b[0m\u001b[1;33m)\u001b[0m\u001b[1;33m:\u001b[0m\u001b[1;33m\u001b[0m\u001b[0m\n",
      "\u001b[1;32mC:\\Users\\madhu\\Anaconda3\\lib\\site-packages\\boto\\connection.py\u001b[0m in \u001b[0;36m_mexe\u001b[1;34m(self, request, sender, override_num_retries, retry_handler)\u001b[0m\n\u001b[0;32m   1028\u001b[0m             \u001b[1;32mraise\u001b[0m \u001b[0mBotoServerError\u001b[0m\u001b[1;33m(\u001b[0m\u001b[0mresponse\u001b[0m\u001b[1;33m.\u001b[0m\u001b[0mstatus\u001b[0m\u001b[1;33m,\u001b[0m \u001b[0mresponse\u001b[0m\u001b[1;33m.\u001b[0m\u001b[0mreason\u001b[0m\u001b[1;33m,\u001b[0m \u001b[0mbody\u001b[0m\u001b[1;33m)\u001b[0m\u001b[1;33m\u001b[0m\u001b[0m\n\u001b[0;32m   1029\u001b[0m         \u001b[1;32melif\u001b[0m \u001b[0mex\u001b[0m\u001b[1;33m:\u001b[0m\u001b[1;33m\u001b[0m\u001b[0m\n\u001b[1;32m-> 1030\u001b[1;33m             \u001b[1;32mraise\u001b[0m \u001b[0mex\u001b[0m\u001b[1;33m\u001b[0m\u001b[0m\n\u001b[0m\u001b[0;32m   1031\u001b[0m         \u001b[1;32melse\u001b[0m\u001b[1;33m:\u001b[0m\u001b[1;33m\u001b[0m\u001b[0m\n\u001b[0;32m   1032\u001b[0m             \u001b[0mmsg\u001b[0m \u001b[1;33m=\u001b[0m \u001b[1;34m'Please report this exception as a Boto Issue!'\u001b[0m\u001b[1;33m\u001b[0m\u001b[0m\n",
      "\u001b[1;32mC:\\Users\\madhu\\Anaconda3\\lib\\site-packages\\boto\\connection.py\u001b[0m in \u001b[0;36m_mexe\u001b[1;34m(self, request, sender, override_num_retries, retry_handler)\u001b[0m\n\u001b[0;32m    938\u001b[0m                 \u001b[1;32mif\u001b[0m \u001b[0mcallable\u001b[0m\u001b[1;33m(\u001b[0m\u001b[0msender\u001b[0m\u001b[1;33m)\u001b[0m\u001b[1;33m:\u001b[0m\u001b[1;33m\u001b[0m\u001b[0m\n\u001b[0;32m    939\u001b[0m                     response = sender(connection, request.method, request.path,\n\u001b[1;32m--> 940\u001b[1;33m                                       request.body, request.headers)\n\u001b[0m\u001b[0;32m    941\u001b[0m                 \u001b[1;32melse\u001b[0m\u001b[1;33m:\u001b[0m\u001b[1;33m\u001b[0m\u001b[0m\n\u001b[0;32m    942\u001b[0m                     connection.request(request.method, request.path,\n",
      "\u001b[1;32mC:\\Users\\madhu\\Anaconda3\\lib\\site-packages\\boto\\s3\\key.py\u001b[0m in \u001b[0;36msender\u001b[1;34m(http_conn, method, path, data, headers)\u001b[0m\n\u001b[0;32m    842\u001b[0m                     \u001b[0mhttp_conn\u001b[0m\u001b[1;33m.\u001b[0m\u001b[0msend\u001b[0m\u001b[1;33m(\u001b[0m\u001b[1;34m'\\r\\n'\u001b[0m\u001b[1;33m)\u001b[0m\u001b[1;33m\u001b[0m\u001b[0m\n\u001b[0;32m    843\u001b[0m                 \u001b[1;32melse\u001b[0m\u001b[1;33m:\u001b[0m\u001b[1;33m\u001b[0m\u001b[0m\n\u001b[1;32m--> 844\u001b[1;33m                     \u001b[0mhttp_conn\u001b[0m\u001b[1;33m.\u001b[0m\u001b[0msend\u001b[0m\u001b[1;33m(\u001b[0m\u001b[0mchunk\u001b[0m\u001b[1;33m)\u001b[0m\u001b[1;33m\u001b[0m\u001b[0m\n\u001b[0m\u001b[0;32m    845\u001b[0m                 \u001b[1;32mfor\u001b[0m \u001b[0malg\u001b[0m \u001b[1;32min\u001b[0m \u001b[0mdigesters\u001b[0m\u001b[1;33m:\u001b[0m\u001b[1;33m\u001b[0m\u001b[0m\n\u001b[0;32m    846\u001b[0m                     \u001b[0mdigesters\u001b[0m\u001b[1;33m[\u001b[0m\u001b[0malg\u001b[0m\u001b[1;33m]\u001b[0m\u001b[1;33m.\u001b[0m\u001b[0mupdate\u001b[0m\u001b[1;33m(\u001b[0m\u001b[0mchunk\u001b[0m\u001b[1;33m)\u001b[0m\u001b[1;33m\u001b[0m\u001b[0m\n",
      "\u001b[1;32mC:\\Users\\madhu\\Anaconda3\\lib\\http\\client.py\u001b[0m in \u001b[0;36msend\u001b[1;34m(self, data)\u001b[0m\n\u001b[0;32m    984\u001b[0m             \u001b[1;32mreturn\u001b[0m\u001b[1;33m\u001b[0m\u001b[0m\n\u001b[0;32m    985\u001b[0m         \u001b[1;32mtry\u001b[0m\u001b[1;33m:\u001b[0m\u001b[1;33m\u001b[0m\u001b[0m\n\u001b[1;32m--> 986\u001b[1;33m             \u001b[0mself\u001b[0m\u001b[1;33m.\u001b[0m\u001b[0msock\u001b[0m\u001b[1;33m.\u001b[0m\u001b[0msendall\u001b[0m\u001b[1;33m(\u001b[0m\u001b[0mdata\u001b[0m\u001b[1;33m)\u001b[0m\u001b[1;33m\u001b[0m\u001b[0m\n\u001b[0m\u001b[0;32m    987\u001b[0m         \u001b[1;32mexcept\u001b[0m \u001b[0mTypeError\u001b[0m\u001b[1;33m:\u001b[0m\u001b[1;33m\u001b[0m\u001b[0m\n\u001b[0;32m    988\u001b[0m             \u001b[1;32mif\u001b[0m \u001b[0misinstance\u001b[0m\u001b[1;33m(\u001b[0m\u001b[0mdata\u001b[0m\u001b[1;33m,\u001b[0m \u001b[0mcollections\u001b[0m\u001b[1;33m.\u001b[0m\u001b[0mIterable\u001b[0m\u001b[1;33m)\u001b[0m\u001b[1;33m:\u001b[0m\u001b[1;33m\u001b[0m\u001b[0m\n",
      "\u001b[1;32mC:\\Users\\madhu\\Anaconda3\\lib\\ssl.py\u001b[0m in \u001b[0;36msendall\u001b[1;34m(self, data, flags)\u001b[0m\n\u001b[0;32m    963\u001b[0m             \u001b[0mcount\u001b[0m \u001b[1;33m=\u001b[0m \u001b[1;36m0\u001b[0m\u001b[1;33m\u001b[0m\u001b[0m\n\u001b[0;32m    964\u001b[0m             \u001b[1;32mwhile\u001b[0m \u001b[1;33m(\u001b[0m\u001b[0mcount\u001b[0m \u001b[1;33m<\u001b[0m \u001b[0mamount\u001b[0m\u001b[1;33m)\u001b[0m\u001b[1;33m:\u001b[0m\u001b[1;33m\u001b[0m\u001b[0m\n\u001b[1;32m--> 965\u001b[1;33m                 \u001b[0mv\u001b[0m \u001b[1;33m=\u001b[0m \u001b[0mself\u001b[0m\u001b[1;33m.\u001b[0m\u001b[0msend\u001b[0m\u001b[1;33m(\u001b[0m\u001b[0mdata\u001b[0m\u001b[1;33m[\u001b[0m\u001b[0mcount\u001b[0m\u001b[1;33m:\u001b[0m\u001b[1;33m]\u001b[0m\u001b[1;33m)\u001b[0m\u001b[1;33m\u001b[0m\u001b[0m\n\u001b[0m\u001b[0;32m    966\u001b[0m                 \u001b[0mcount\u001b[0m \u001b[1;33m+=\u001b[0m \u001b[0mv\u001b[0m\u001b[1;33m\u001b[0m\u001b[0m\n\u001b[0;32m    967\u001b[0m         \u001b[1;32melse\u001b[0m\u001b[1;33m:\u001b[0m\u001b[1;33m\u001b[0m\u001b[0m\n",
      "\u001b[1;32mC:\\Users\\madhu\\Anaconda3\\lib\\ssl.py\u001b[0m in \u001b[0;36msend\u001b[1;34m(self, data, flags)\u001b[0m\n\u001b[0;32m    933\u001b[0m                     \u001b[1;34m\"non-zero flags not allowed in calls to send() on %s\"\u001b[0m \u001b[1;33m%\u001b[0m\u001b[1;33m\u001b[0m\u001b[0m\n\u001b[0;32m    934\u001b[0m                     self.__class__)\n\u001b[1;32m--> 935\u001b[1;33m             \u001b[1;32mreturn\u001b[0m \u001b[0mself\u001b[0m\u001b[1;33m.\u001b[0m\u001b[0m_sslobj\u001b[0m\u001b[1;33m.\u001b[0m\u001b[0mwrite\u001b[0m\u001b[1;33m(\u001b[0m\u001b[0mdata\u001b[0m\u001b[1;33m)\u001b[0m\u001b[1;33m\u001b[0m\u001b[0m\n\u001b[0m\u001b[0;32m    936\u001b[0m         \u001b[1;32melse\u001b[0m\u001b[1;33m:\u001b[0m\u001b[1;33m\u001b[0m\u001b[0m\n\u001b[0;32m    937\u001b[0m             \u001b[1;32mreturn\u001b[0m \u001b[0msocket\u001b[0m\u001b[1;33m.\u001b[0m\u001b[0msend\u001b[0m\u001b[1;33m(\u001b[0m\u001b[0mself\u001b[0m\u001b[1;33m,\u001b[0m \u001b[0mdata\u001b[0m\u001b[1;33m,\u001b[0m \u001b[0mflags\u001b[0m\u001b[1;33m)\u001b[0m\u001b[1;33m\u001b[0m\u001b[0m\n",
      "\u001b[1;32mC:\\Users\\madhu\\Anaconda3\\lib\\ssl.py\u001b[0m in \u001b[0;36mwrite\u001b[1;34m(self, data)\u001b[0m\n\u001b[0;32m    634\u001b[0m         \u001b[0mThe\u001b[0m \u001b[1;34m'data'\u001b[0m \u001b[0margument\u001b[0m \u001b[0mmust\u001b[0m \u001b[0msupport\u001b[0m \u001b[0mthe\u001b[0m \u001b[0mbuffer\u001b[0m \u001b[0minterface\u001b[0m\u001b[1;33m.\u001b[0m\u001b[1;33m\u001b[0m\u001b[0m\n\u001b[0;32m    635\u001b[0m         \"\"\"\n\u001b[1;32m--> 636\u001b[1;33m         \u001b[1;32mreturn\u001b[0m \u001b[0mself\u001b[0m\u001b[1;33m.\u001b[0m\u001b[0m_sslobj\u001b[0m\u001b[1;33m.\u001b[0m\u001b[0mwrite\u001b[0m\u001b[1;33m(\u001b[0m\u001b[0mdata\u001b[0m\u001b[1;33m)\u001b[0m\u001b[1;33m\u001b[0m\u001b[0m\n\u001b[0m\u001b[0;32m    637\u001b[0m \u001b[1;33m\u001b[0m\u001b[0m\n\u001b[0;32m    638\u001b[0m     \u001b[1;32mdef\u001b[0m \u001b[0mgetpeercert\u001b[0m\u001b[1;33m(\u001b[0m\u001b[0mself\u001b[0m\u001b[1;33m,\u001b[0m \u001b[0mbinary_form\u001b[0m\u001b[1;33m=\u001b[0m\u001b[1;32mFalse\u001b[0m\u001b[1;33m)\u001b[0m\u001b[1;33m:\u001b[0m\u001b[1;33m\u001b[0m\u001b[0m\n",
      "\u001b[1;31mConnectionAbortedError\u001b[0m: [WinError 10053] An established connection was aborted by the software in your host machine"
     ]
    }
   ],
   "source": [
    "#connection = boto.connect_s3(AWS_ACCESS_KEY_ID, AWS_SECRET_ACCESS_KEY)\n",
    "\n",
    "#csvFile = 'zillowData.csv'\n",
    "zipname = \"zillowdata.zip\"\n",
    "z = zipfile.ZipFile(zipname, \"w\")\n",
    "z.write('zillowData.csv')\n",
    "cur_path\n",
    "bucket_name = 'zillowdatampsc'\n",
    "\n",
    "\n",
    "\n",
    "loc = boto.s3.connection.Location.USWest\n",
    "\n",
    "bucket = connect.create_bucket(bucket_name, location=loc)\n",
    "def percent_cb(complete, total):\n",
    "    sys.stdout.write('.')\n",
    "    sys.stdout.flush()\n",
    "\n",
    "s3key = boto.s3.key.Key(bucket)\n",
    "s3key.key = zipname\n",
    "s3key.set_contents_from_filename(zipname, cb=percent_cb, num_cb=10)"
   ]
  },
  {
   "cell_type": "code",
   "execution_count": 288,
   "metadata": {
    "collapsed": false
   },
   "outputs": [],
   "source": [
    "m_16 = merge_2016[merge_2016.regionidzip.notnull() & \n",
    "           merge_2016.taxamount.notnull() & \n",
    "           merge_2016.taxvaluedollarcnt.notnull() & \n",
    "           merge_2016.structuretaxvaluedollarcnt.notnull() &\n",
    "           merge_2016.regionidcity.notnull() &  \n",
    "           merge_2016.landtaxvaluedollarcnt.notnull() &\n",
    "           merge_2016.regionidcity.notnull()& \n",
    "           merge_2016.censustractandblock.notnull() & merge_2016.lotsizesquarefeet.notnull()]\n",
    "           "
   ]
  },
  {
   "cell_type": "code",
   "execution_count": 289,
   "metadata": {
    "collapsed": false
   },
   "outputs": [],
   "source": [
    "m_17 = merge_2017[merge_2017.regionidzip.notnull() & \n",
    "           merge_2017.taxamount.notnull() & \n",
    "           merge_2017.taxvaluedollarcnt.notnull() & \n",
    "           merge_2017.structuretaxvaluedollarcnt.notnull() &\n",
    "           merge_2017.regionidcity.notnull() &  \n",
    "           merge_2017.landtaxvaluedollarcnt.notnull() &\n",
    "           merge_2017.regionidcity.notnull()& \n",
    "           merge_2017.censustractandblock.notnull() & merge_2017.lotsizesquarefeet.notnull()]"
   ]
  },
  {
   "cell_type": "code",
   "execution_count": 290,
   "metadata": {
    "collapsed": false
   },
   "outputs": [],
   "source": [
    "df_concat = pd.concat([m_16, m_17])\n",
    "df_concat.to_csv('/Users/sonalichaudhari/Desktop/ADS_MidTerm/Data/New_Data/Concat.csv', sep=',')"
   ]
  },
  {
   "cell_type": "code",
   "execution_count": 44,
   "metadata": {
    "collapsed": true
   },
   "outputs": [],
   "source": [
    "m_16.to_csv('/Users/sonalichaudhari/Desktop/ADS_MidTerm/Data/New_Data/m_16.csv', sep=',')\n",
    "m_17.to_csv('/Users/sonalichaudhari/Desktop/ADS_MidTerm/Data/New_Data/m_17.csv', sep=',')"
   ]
  },
  {
   "cell_type": "code",
   "execution_count": 291,
   "metadata": {
    "collapsed": false
   },
   "outputs": [
    {
     "data": {
      "text/plain": [
       "parcelid                            0\n",
       "yearbuilt                           0\n",
       "calculatedfinishedsquarefeet        0\n",
       "propertycountylandusecode           0\n",
       "roomcnt                             0\n",
       "bedroomcnt                          0\n",
       "assessmentyear                      0\n",
       "latitude                            0\n",
       "longitude                           0\n",
       "bathroomcnt                         0\n",
       "rawcensustractandblock              0\n",
       "logerror                            0\n",
       "transactiondate                     0\n",
       "regionidcounty                      0\n",
       "year                                0\n",
       "age                                 0\n",
       "fips                                0\n",
       "propertylandusetypeid               0\n",
       "month                               0\n",
       "landtaxvaluedollarcnt               1\n",
       "taxvaluedollarcnt                   1\n",
       "taxamount                           6\n",
       "regionidzip                        35\n",
       "structuretaxvaluedollarcnt        380\n",
       "censustractandblock               605\n",
       "regionidcity                     1803\n",
       "lotsizesquarefeet               10150\n",
       "dtype: int64"
      ]
     },
     "execution_count": 291,
     "metadata": {},
     "output_type": "execute_result"
    }
   ],
   "source": [
    "merge_2016.isnull().sum().sort_values()"
   ]
  },
  {
   "cell_type": "markdown",
   "metadata": {},
   "source": [
    "## 'taxvaluedollarcnt' 'taxamount' and 'landtaxvaluedollarcnt' "
   ]
  },
  {
   "cell_type": "code",
   "execution_count": 292,
   "metadata": {
    "collapsed": false
   },
   "outputs": [
    {
     "data": {
      "text/plain": [
       "taxvaluedollarcnt        1\n",
       "landtaxvaluedollarcnt    1\n",
       "dtype: int64"
      ]
     },
     "execution_count": 292,
     "metadata": {},
     "output_type": "execute_result"
    }
   ],
   "source": [
    "merge_2016[['taxvaluedollarcnt','landtaxvaluedollarcnt']].isnull().sum()"
   ]
  },
  {
   "cell_type": "code",
   "execution_count": 293,
   "metadata": {
    "collapsed": false
   },
   "outputs": [
    {
     "data": {
      "text/html": [
       "<div>\n",
       "<table border=\"1\" class=\"dataframe\">\n",
       "  <thead>\n",
       "    <tr style=\"text-align: right;\">\n",
       "      <th></th>\n",
       "      <th>taxvaluedollarcnt</th>\n",
       "      <th>landtaxvaluedollarcnt</th>\n",
       "      <th>assessmentyear</th>\n",
       "    </tr>\n",
       "  </thead>\n",
       "  <tbody>\n",
       "    <tr>\n",
       "      <th>68986</th>\n",
       "      <td>NaN</td>\n",
       "      <td>NaN</td>\n",
       "      <td>2015.0</td>\n",
       "    </tr>\n",
       "  </tbody>\n",
       "</table>\n",
       "</div>"
      ],
      "text/plain": [
       "       taxvaluedollarcnt  landtaxvaluedollarcnt  assessmentyear\n",
       "68986                NaN                    NaN          2015.0"
      ]
     },
     "execution_count": 293,
     "metadata": {},
     "output_type": "execute_result"
    }
   ],
   "source": [
    "merge_2016[['taxvaluedollarcnt','landtaxvaluedollarcnt','assessmentyear']][merge_2016.taxvaluedollarcnt.isnull()]"
   ]
  },
  {
   "cell_type": "code",
   "execution_count": 294,
   "metadata": {
    "collapsed": false
   },
   "outputs": [],
   "source": [
    "merge_2016['taxvaluedollarcnt'].fillna((merge_2016['taxvaluedollarcnt'].mean()), inplace=True)\n",
    "merge_2016['landtaxvaluedollarcnt'].fillna((merge_2016['landtaxvaluedollarcnt'].mean()), inplace=True)\n",
    "merge_2016['taxamount'].fillna((merge_2016['taxamount'].mean()), inplace=True)"
   ]
  },
  {
   "cell_type": "code",
   "execution_count": 295,
   "metadata": {
    "collapsed": false
   },
   "outputs": [
    {
     "data": {
      "text/plain": [
       "parcelid                            0\n",
       "landtaxvaluedollarcnt               0\n",
       "yearbuilt                           0\n",
       "calculatedfinishedsquarefeet        0\n",
       "taxvaluedollarcnt                   0\n",
       "taxamount                           0\n",
       "propertycountylandusecode           0\n",
       "roomcnt                             0\n",
       "bedroomcnt                          0\n",
       "assessmentyear                      0\n",
       "bathroomcnt                         0\n",
       "longitude                           0\n",
       "regionidcounty                      0\n",
       "rawcensustractandblock              0\n",
       "propertylandusetypeid               0\n",
       "fips                                0\n",
       "month                               0\n",
       "year                                0\n",
       "transactiondate                     0\n",
       "logerror                            0\n",
       "latitude                            0\n",
       "age                                 0\n",
       "regionidzip                        35\n",
       "structuretaxvaluedollarcnt        380\n",
       "censustractandblock               605\n",
       "regionidcity                     1803\n",
       "lotsizesquarefeet               10150\n",
       "dtype: int64"
      ]
     },
     "execution_count": 295,
     "metadata": {},
     "output_type": "execute_result"
    }
   ],
   "source": [
    "merge_2016.isnull().sum().sort_values()"
   ]
  },
  {
   "cell_type": "code",
   "execution_count": 139,
   "metadata": {
    "collapsed": false
   },
   "outputs": [],
   "source": [
    "# x, y = pd.Series(merge_2016.taxvaluedollarcnt, name=\"x_var\"), pd.Series(merge_2016.landtaxvaluedollarcnt, name=\"y_var\")\n",
    "# ax = sns.regplot(x=x, y=y, marker=\"+\")\n",
    "# plt.show()"
   ]
  },
  {
   "cell_type": "code",
   "execution_count": 89,
   "metadata": {
    "collapsed": false
   },
   "outputs": [],
   "source": [
    "# fig,ax1= plt.subplots()\n",
    "# fig.set_size_inches(20,10)\n",
    "# merge_2016[\"regionidcounty\"] = merge_2016[\"regionidcounty\"].map(lambda x:str(x).split(\".\")[0])\n",
    "# yearMerged = merge_2016.groupby(['regionidcounty', 'regionidzip'])[\"parcelid\"].count().unstack('regionidzip').fillna(0)\n",
    "# yearMerged.plot(kind='bar', stacked=False,ax=ax1)\n",
    "\n",
    "# ax1.set_xlabel('Different County in California',fontsize=20, color='red')\n",
    "# ax1.set_ylabel('Count of house',fontsize=14, color='red')\n",
    "# plt.show()"
   ]
  },
  {
   "cell_type": "code",
   "execution_count": 223,
   "metadata": {
    "collapsed": false
   },
   "outputs": [],
   "source": [
    "#merge_2016[['regionidcounty','parcelid', 'regionidcity']][merge_2016.regionidzip.isnull()].sort_values(by='regionidcounty')"
   ]
  },
  {
   "cell_type": "code",
   "execution_count": 152,
   "metadata": {
    "collapsed": false
   },
   "outputs": [
    {
     "data": {
      "text/html": [
       "<div>\n",
       "<table border=\"1\" class=\"dataframe\">\n",
       "  <thead>\n",
       "    <tr style=\"text-align: right;\">\n",
       "      <th></th>\n",
       "      <th>regionidcounty</th>\n",
       "      <th>parcelid</th>\n",
       "      <th>regionidcity</th>\n",
       "      <th>regionidzip</th>\n",
       "    </tr>\n",
       "    <tr>\n",
       "      <th>regionidcounty</th>\n",
       "      <th></th>\n",
       "      <th></th>\n",
       "      <th></th>\n",
       "      <th></th>\n",
       "    </tr>\n",
       "  </thead>\n",
       "  <tbody>\n",
       "    <tr>\n",
       "      <th>1286.0</th>\n",
       "      <td>6</td>\n",
       "      <td>6</td>\n",
       "      <td>3</td>\n",
       "      <td>0</td>\n",
       "    </tr>\n",
       "    <tr>\n",
       "      <th>2061.0</th>\n",
       "      <td>29</td>\n",
       "      <td>29</td>\n",
       "      <td>11</td>\n",
       "      <td>0</td>\n",
       "    </tr>\n",
       "  </tbody>\n",
       "</table>\n",
       "</div>"
      ],
      "text/plain": [
       "                regionidcounty  parcelid  regionidcity  regionidzip\n",
       "regionidcounty                                                     \n",
       "1286.0                       6         6             3            0\n",
       "2061.0                      29        29            11            0"
      ]
     },
     "execution_count": 152,
     "metadata": {},
     "output_type": "execute_result"
    }
   ],
   "source": [
    "merge_2016[['regionidcounty','parcelid', 'regionidcity','regionidzip']][merge_2016.regionidzip.isnull()].groupby(merge_2016.regionidcounty).count()"
   ]
  },
  {
   "cell_type": "markdown",
   "metadata": {},
   "source": [
    "### 'regionidcity'"
   ]
  },
  {
   "cell_type": "code",
   "execution_count": 296,
   "metadata": {
    "collapsed": false
   },
   "outputs": [],
   "source": [
    "def missingcity(m):\n",
    "    city = m[['regionidcounty','parcelid', 'regionidcity']]\n",
    "    Mode = m['regionidcity'].mode()[0]\n",
    "    county= list(city['regionidcounty'].unique())\n",
    "\n",
    "    for c in county:\n",
    "        temp = city[city.regionidcounty == c]\n",
    "        if(temp.shape == temp[temp.isnull().any(axis=1)].shape ):\n",
    "                temp['regionidcity'].fillna(Mode, inplace=True)\n",
    "        else:\n",
    "                c = temp['regionidcity'].mode()[0]\n",
    "                temp['regionidcity'].fillna(c, inplace=True)\n",
    "        city.loc[city.parcelid.isin(temp.parcelid), ['regionidcity']] = temp[['regionidcity']]\n",
    "    city['regionidcity'].fillna(city['regionidcity'].mode()[0], inplace = True)      \n",
    "    m.loc[m.parcelid.isin(city.parcelid), ['regionidcity']] = city[['regionidcity']]"
   ]
  },
  {
   "cell_type": "code",
   "execution_count": 298,
   "metadata": {
    "collapsed": false
   },
   "outputs": [
    {
     "name": "stderr",
     "output_type": "stream",
     "text": [
      "/Users/sonalichaudhari/anaconda/lib/python3.5/site-packages/pandas/core/generic.py:3295: SettingWithCopyWarning: \n",
      "A value is trying to be set on a copy of a slice from a DataFrame\n",
      "\n",
      "See the caveats in the documentation: http://pandas.pydata.org/pandas-docs/stable/indexing.html#indexing-view-versus-copy\n",
      "  self._update_inplace(new_data)\n",
      "/Users/sonalichaudhari/anaconda/lib/python3.5/site-packages/pandas/core/indexing.py:477: SettingWithCopyWarning: \n",
      "A value is trying to be set on a copy of a slice from a DataFrame.\n",
      "Try using .loc[row_indexer,col_indexer] = value instead\n",
      "\n",
      "See the caveats in the documentation: http://pandas.pydata.org/pandas-docs/stable/indexing.html#indexing-view-versus-copy\n",
      "  self.obj[item] = s\n"
     ]
    }
   ],
   "source": [
    "missingcity(merge_2016)"
   ]
  },
  {
   "cell_type": "markdown",
   "metadata": {},
   "source": [
    "### regionidzip"
   ]
  },
  {
   "cell_type": "code",
   "execution_count": 406,
   "metadata": {
    "collapsed": true
   },
   "outputs": [],
   "source": [
    "def missingzipcode(m):\n",
    "    city = m[['regionidcity','parcelid', 'regionidzip']]\n",
    "    Mode = m['regionidzip'].mode()[0]\n",
    "    county= list(city['regionidcity'].unique())\n",
    "\n",
    "    for c in county:\n",
    "        temp = city[city.regionidcity == c]\n",
    "        if( temp.regionidzip.isnull().sum()==0):\n",
    "            break\n",
    "        else:\n",
    "            if(temp.shape == temp[temp.isnull().any(axis=1)].shape ):\n",
    "                temp['regionidzip'].fillna(Mode, inplace=True)\n",
    "            else:\n",
    "                c = temp['regionidzip'].mode()[0]\n",
    "                temp['regionidzip'].fillna(c, inplace=True)\n",
    "            city.loc[city.parcelid.isin(temp.parcelid), ['regionidzip']] = temp[['regionidzip']]\n",
    "    city['regionidzip'].fillna(city['regionidzip'].mode()[0], inplace = True)      \n",
    "    m.loc[m.parcelid.isin(city.parcelid), ['regionidzip']] = city[['regionidzip']]"
   ]
  },
  {
   "cell_type": "code",
   "execution_count": 408,
   "metadata": {
    "collapsed": false
   },
   "outputs": [
    {
     "name": "stderr",
     "output_type": "stream",
     "text": [
      "/Users/sonalichaudhari/anaconda/lib/python3.5/site-packages/pandas/core/generic.py:3295: SettingWithCopyWarning: \n",
      "A value is trying to be set on a copy of a slice from a DataFrame\n",
      "\n",
      "See the caveats in the documentation: http://pandas.pydata.org/pandas-docs/stable/indexing.html#indexing-view-versus-copy\n",
      "  self._update_inplace(new_data)\n"
     ]
    }
   ],
   "source": [
    "missingzipcode(merge_2016)"
   ]
  },
  {
   "cell_type": "code",
   "execution_count": 409,
   "metadata": {
    "collapsed": false
   },
   "outputs": [
    {
     "data": {
      "text/plain": [
       "0"
      ]
     },
     "execution_count": 409,
     "metadata": {},
     "output_type": "execute_result"
    }
   ],
   "source": [
    "merge_2016.regionidzip.isnull().sum()"
   ]
  },
  {
   "cell_type": "code",
   "execution_count": 205,
   "metadata": {
    "collapsed": false
   },
   "outputs": [
    {
     "data": {
      "image/png": "[encoded data removed]",
      "text/plain": [
       "<matplotlib.figure.Figure at 0x162e6e7f0>"
      ]
     },
     "metadata": {},
     "output_type": "display_data"
    }
   ],
   "source": [
    "merge_2016[['structuretaxvaluedollarcnt','taxvaluedollarcnt']].plot(style=['o','x'])\n",
    "plt.show()"
   ]
  },
  {
   "cell_type": "code",
   "execution_count": 211,
   "metadata": {
    "collapsed": false
   },
   "outputs": [
    {
     "data": {
      "image/png": "[encoded data removed]",
      "text/plain": [
       "<matplotlib.figure.Figure at 0x160f69550>"
      ]
     },
     "metadata": {},
     "output_type": "display_data"
    }
   ],
   "source": [
    "import numpy as np\n",
    "import pandas as pd\n",
    "\n",
    "d = {'one' : np.random.rand(10),\n",
    "     'two' : np.random.rand(10)}\n",
    "\n",
    "df = pd.DataFrame(d)\n",
    "\n",
    "df.plot(style=['o','x'])\n",
    "plt.show()"
   ]
  },
  {
   "cell_type": "code",
   "execution_count": 221,
   "metadata": {
    "collapsed": false
   },
   "outputs": [],
   "source": [
    "# colors = np.where(merge_2016,'taxvaluedollarcnt','structuretaxvaluedollarcnt',)\n",
    "# #plt.scatter(merge_2016.taxvaluedollarcnt, merge_2016.structuretaxvaluedollarcnt, s=120, c=colors)\n",
    "# # OR (with pandas 0.13 and up)\n",
    "# merge_2016.plot(kind='scatter', x='taxvaluedollarcnt', y='structuretaxvaluedollarcnt', s=120, c=colors)"
   ]
  },
  {
   "cell_type": "code",
   "execution_count": 227,
   "metadata": {
    "collapsed": false
   },
   "outputs": [],
   "source": [
    "# import seaborn as sns\n",
    "# sns.set()\n",
    "\n",
    "# # Load the example tips dataset\n",
    "# #iris = sns.load_dataset(\"iris\")\n",
    "\n",
    "# # Plot tip as a function of toal bill across days\n",
    "# g = sns.lmplot(x=\"taxamount\", y=\"structuretaxvaluedollarcnt\", hue=\"parcelid\",\n",
    "#                truncate=True, size=5, data=merge_2016)\n",
    "\n",
    "# # Use more informative axis labels than are provided by default\n",
    "# g.set_axis_labels(\"Sepal length (mm)\", \"Sepal width (mm)\")"
   ]
  },
  {
   "cell_type": "markdown",
   "metadata": {},
   "source": [
    "## 'censustractandblock'"
   ]
  },
  {
   "cell_type": "code",
   "execution_count": 324,
   "metadata": {
    "collapsed": false
   },
   "outputs": [
    {
     "name": "stdout",
     "output_type": "stream",
     "text": [
      "0.592260510762\n"
     ]
    }
   ],
   "source": [
    "base = 'roomcnt','parcelid','censustractandblock'\n",
    "target_column = 'censustractandblock'\n",
    "\n",
    "null = merge_2016[target_column].isnull()\n",
    "not_null = ~null\n",
    "num_miss = null.sum()\n",
    "num_miss\n",
    "\n",
    "X_train = merge_2016.loc[not_null, base].sample(frac = 1)\n",
    "\n",
    "X_train.roomcnt.astype(int)\n",
    "# X_train.bedroomcnt.astype(int)\n",
    "# X_train.bathroomcnt.astype(int)\n",
    "# X_train.calculatedfinishedsquarefeet.astype(int)\n",
    "X=X_train[['roomcnt','parcelid']].values\n",
    "\n",
    "y = X_train[target_column].astype(int)\n",
    "y = y.values\n",
    "\n",
    "Y_target =merge_2016.loc[null, base].sample(frac = 1)\n",
    "Y_target.roomcnt.astype(int)\n",
    "# Y_target.bedroomcnt.astype(int)\n",
    "# Y_target.bathroomcnt.astype(int)\n",
    "\n",
    "Y =Y_target[['roomcnt','parcelid']].values\n",
    "\n",
    "clf = neighbors.KNeighborsClassifier()\n",
    "clf.fit(X,y)\n",
    "accuracy = clf.score(X, y) #test\n",
    "print(accuracy) #this works fine\n",
    "\n",
    "#Y = Y.reshape(len(X), -1)\n",
    "prediction = clf.predict(Y)\n",
    "prediction[0]\n",
    "\n",
    "Y_target.loc[Y_target.censustractandblock.isnull(),'censustractandblock'] = prediction\n",
    "merge_2016.loc[merge_2016.parcelid.isin(Y_target.parcelid), ['censustractandblock']] = Y_target[['censustractandblock']]"
   ]
  },
  {
   "cell_type": "code",
   "execution_count": 410,
   "metadata": {
    "collapsed": false
   },
   "outputs": [
    {
     "data": {
      "text/plain": [
       "parcelid                            0\n",
       "logerror                            0\n",
       "transactiondate                     0\n",
       "year                                0\n",
       "month                               0\n",
       "fips                                0\n",
       "propertylandusetypeid               0\n",
       "rawcensustractandblock              0\n",
       "regionidcounty                      0\n",
       "longitude                           0\n",
       "latitude                            0\n",
       "assessmentyear                      0\n",
       "bedroomcnt                          0\n",
       "bathroomcnt                         0\n",
       "roomcnt                             0\n",
       "propertycountylandusecode           0\n",
       "regionidzip                         0\n",
       "taxamount                           0\n",
       "taxvaluedollarcnt                   0\n",
       "structuretaxvaluedollarcnt          0\n",
       "calculatedfinishedsquarefeet        0\n",
       "yearbuilt                           0\n",
       "regionidcity                        0\n",
       "landtaxvaluedollarcnt               0\n",
       "censustractandblock                 0\n",
       "lotsizesquarefeet               10150\n",
       "age                                 0\n",
       "dtype: int64"
      ]
     },
     "execution_count": 410,
     "metadata": {},
     "output_type": "execute_result"
    }
   ],
   "source": [
    "merge_2016.isnull().sum()"
   ]
  },
  {
   "cell_type": "markdown",
   "metadata": {},
   "source": [
    "### structuretaxvaluedollarcnt"
   ]
  },
  {
   "cell_type": "code",
   "execution_count": 347,
   "metadata": {
    "collapsed": false
   },
   "outputs": [
    {
     "name": "stdout",
     "output_type": "stream",
     "text": [
      "0.205261694199\n"
     ]
    }
   ],
   "source": [
    "# base = 'roomcnt','parcelid','structuretaxvaluedollarcnt','calculatedfinishedsquarefeet','taxamount','taxvaluedollarcnt','landtaxvaluedollarcnt'\n",
    "base = 'roomcnt','parcelid','structuretaxvaluedollarcnt','taxamount','taxvaluedollarcnt'\n",
    "target_column = 'structuretaxvaluedollarcnt'\n",
    "\n",
    "null = merge_2016[target_column].isnull()\n",
    "not_null = ~null\n",
    "num_miss = null.sum()\n",
    "num_miss\n",
    "\n",
    "X_train = merge_2016.loc[not_null, base].sample(frac = 1)\n",
    "\n",
    "X_train.roomcnt.astype(int)\n",
    "X_train.structuretaxvaluedollarcnt.astype(int)\n",
    "# X_train.calculatedfinishedsquarefeet.astype(int)\n",
    "X_train.taxamount.astype(int)\n",
    "X_train.taxvaluedollarcnt.astype(int)\n",
    "# X_train.landtaxvaluedollarcnt.astype(int)\n",
    "X=X_train[['roomcnt','parcelid','taxamount','taxvaluedollarcnt']].values\n",
    "\n",
    "y = X_train[target_column].astype(int)\n",
    "y = y.values\n",
    "\n",
    "Y_target =merge_2016.loc[null, base].sample(frac = 1)\n",
    "Y_target.roomcnt.astype(int)\n",
    "#Y_target.structuretaxvaluedollarcnt.astype(int)\n",
    "# Y_target.calculatedfinishedsquarefeet.astype(int)\n",
    "Y_target.taxamount.astype(int)\n",
    "Y_target.taxvaluedollarcnt.astype(int)\n",
    "# Y_target.landtaxvaluedollarcnt.astype(int)\n",
    "Y =Y_target[['roomcnt','parcelid','taxamount','taxvaluedollarcnt']].values"
   ]
  },
  {
   "cell_type": "code",
   "execution_count": 363,
   "metadata": {
    "collapsed": false
   },
   "outputs": [
    {
     "name": "stdout",
     "output_type": "stream",
     "text": [
      "0.205261694199\n"
     ]
    }
   ],
   "source": [
    "clf = neighbors.KNeighborsClassifier()\n",
    "clf.fit(X,y)\n",
    "accuracy = clf.score(X, y) #test\n",
    "print(accuracy)\n",
    "prediction = clf.predict(Y)\n",
    "\n",
    "Y_target.loc[Y_target.structuretaxvaluedollarcnt.isnull(),'structuretaxvaluedollarcnt'] = prediction\n",
    "merge_2016.loc[merge_2016.parcelid.isin(Y_target.parcelid), ['structuretaxvaluedollarcnt']] = Y_target[['structuretaxvaluedollarcnt']]"
   ]
  },
  {
   "cell_type": "markdown",
   "metadata": {},
   "source": [
    "### Lotsize"
   ]
  },
  {
   "cell_type": "code",
   "execution_count": 411,
   "metadata": {
    "collapsed": true
   },
   "outputs": [],
   "source": [
    "base = 'bathroomcnt','parcelid','structuretaxvaluedollarcnt','lotsizesquarefeet'\n",
    "target_column = 'lotsizesquarefeet'\n",
    "\n",
    "null = merge_2016[target_column].isnull()\n",
    "not_null = ~null\n",
    "num_miss = null.sum()\n",
    "num_miss\n",
    "\n",
    "X_train = merge_2016.loc[not_null, base].sample(frac = 1)\n",
    "\n",
    "X_train.bathroomcnt.astype(int)\n",
    "X_train.structuretaxvaluedollarcnt.astype(int)\n",
    "\n",
    "X=X_train[['bathroomcnt','parcelid','structuretaxvaluedollarcnt']].values\n",
    "\n",
    "y = X_train[target_column].astype(int)\n",
    "y = y.values\n",
    "\n",
    "Y_target =merge_2016.loc[null, base].sample(frac = 1)\n",
    "\n",
    "Y_target.bathroomcnt.astype(int)\n",
    "Y =Y_target[['bathroomcnt','parcelid','structuretaxvaluedollarcnt']].values"
   ]
  },
  {
   "cell_type": "code",
   "execution_count": 412,
   "metadata": {
    "collapsed": false
   },
   "outputs": [
    {
     "name": "stdout",
     "output_type": "stream",
     "text": [
      "0.232399375975\n"
     ]
    }
   ],
   "source": [
    "clf = neighbors.KNeighborsClassifier()\n",
    "clf.fit(X,y)\n",
    "accuracy = clf.score(X, y) #test\n",
    "print(accuracy)\n",
    "prediction = clf.predict(Y)"
   ]
  },
  {
   "cell_type": "code",
   "execution_count": 413,
   "metadata": {
    "collapsed": true
   },
   "outputs": [],
   "source": [
    "Y_target.loc[Y_target.lotsizesquarefeet.isnull(),'lotsizesquarefeet'] = prediction\n",
    "merge_2016.loc[merge_2016.parcelid.isin(Y_target.parcelid), ['lotsizesquarefeet']] = Y_target[['lotsizesquarefeet']]"
   ]
  },
  {
   "cell_type": "code",
   "execution_count": 414,
   "metadata": {
    "collapsed": false
   },
   "outputs": [
    {
     "data": {
      "text/plain": [
       "parcelid                        0\n",
       "logerror                        0\n",
       "transactiondate                 0\n",
       "year                            0\n",
       "month                           0\n",
       "fips                            0\n",
       "propertylandusetypeid           0\n",
       "rawcensustractandblock          0\n",
       "regionidcounty                  0\n",
       "longitude                       0\n",
       "latitude                        0\n",
       "assessmentyear                  0\n",
       "bedroomcnt                      0\n",
       "bathroomcnt                     0\n",
       "roomcnt                         0\n",
       "propertycountylandusecode       0\n",
       "regionidzip                     0\n",
       "taxamount                       0\n",
       "taxvaluedollarcnt               0\n",
       "structuretaxvaluedollarcnt      0\n",
       "calculatedfinishedsquarefeet    0\n",
       "yearbuilt                       0\n",
       "regionidcity                    0\n",
       "landtaxvaluedollarcnt           0\n",
       "censustractandblock             0\n",
       "lotsizesquarefeet               0\n",
       "age                             0\n",
       "dtype: int64"
      ]
     },
     "execution_count": 414,
     "metadata": {},
     "output_type": "execute_result"
    }
   ],
   "source": [
    "merge_2016.isnull().sum()"
   ]
  },
  {
   "cell_type": "code",
   "execution_count": null,
   "metadata": {
    "collapsed": true
   },
   "outputs": [],
   "source": [
    "#m_16.to_csv('/Users/sonalichaudhari/Desktop/ADS_MidTerm/Data/New_Data/m_17.csv', sep=',')"
   ]
  }
 ],
 "metadata": {
  "anaconda-cloud": {},
  "kernelspec": {
   "display_name": "Python [default]",
   "language": "python",
   "name": "python3"
  },
  "language_info": {
   "codemirror_mode": {
    "name": "ipython",
    "version": 3
   },
   "file_extension": ".py",
   "mimetype": "text/x-python",
   "name": "python",
   "nbconvert_exporter": "python",
   "pygments_lexer": "ipython3",
   "version": "3.5.2"
  }
 },
 "nbformat": 4,
 "nbformat_minor": 2
}
