{
 "cells": [
  {
   "cell_type": "markdown",
   "metadata": {},
   "source": [
    "# ---------------------------DATA EXPLORATION & WRANGLING------------------------"
   ]
  },
  {
   "cell_type": "code",
   "execution_count": 1,
   "metadata": {},
   "outputs": [],
   "source": [
    "# All NECESSARY IMPORTS\n",
    "import pandas as pd\n",
    "import matplotlib.pyplot as plt\n",
    "%matplotlib inline"
   ]
  },
  {
   "cell_type": "code",
   "execution_count": 20,
   "metadata": {},
   "outputs": [],
   "source": [
    "\"\"\"\n",
    "A set of helper functions\n",
    "\n",
    "\"\"\"\n",
    "def filter_parcels(df, random_state=0):\n",
    "    \"\"\"filter the merged train and properties datasets to only include one record per parcel.\n",
    "    \n",
    "    Intended only for use on the training data for building the model\n",
    "\n",
    "    Keyword arguments:\n",
    "    df -- the result of `merge_dataset`\n",
    "    random_state -- the random seed to be passed to the `pandas.DataFrame.sample()` method\n",
    "    \n",
    "    Returns:\n",
    "    a pandas dataframe\n",
    "    \"\"\"\n",
    " \n",
    "    count_parcelid = df.groupby('parcelid').size()\n",
    "    more_than_one_parcelid = df[df.parcelid.isin(count_parcelid[count_parcelid > 1].index)]\n",
    "    one_parcelid = df[df.parcelid.isin(count_parcelid[count_parcelid == 1].index)]\n",
    "    #print(more_than_one_parcelid.parcelid.nunique())\n",
    "\n",
    "    reduced_df = more_than_one_parcelid.groupby('parcelid').first().reset_index()\n",
    "    reduced_df = pd.concat([one_parcelid, reduced_df])\n",
    "    \n",
    "    return reduced_df"
   ]
  },
  {
   "cell_type": "code",
   "execution_count": 21,
   "metadata": {},
   "outputs": [
    {
     "name": "stdout",
     "output_type": "stream",
     "text": [
      "(90275, 60)\n"
     ]
    },
    {
     "data": {
      "text/html": [
       "<div>\n",
       "<style scoped>\n",
       "    .dataframe tbody tr th:only-of-type {\n",
       "        vertical-align: middle;\n",
       "    }\n",
       "\n",
       "    .dataframe tbody tr th {\n",
       "        vertical-align: top;\n",
       "    }\n",
       "\n",
       "    .dataframe thead th {\n",
       "        text-align: right;\n",
       "    }\n",
       "</style>\n",
       "<table border=\"1\" class=\"dataframe\">\n",
       "  <thead>\n",
       "    <tr style=\"text-align: right;\">\n",
       "      <th></th>\n",
       "      <th>parcelid</th>\n",
       "      <th>logerror</th>\n",
       "      <th>transactiondate</th>\n",
       "      <th>airconditioningtypeid</th>\n",
       "      <th>architecturalstyletypeid</th>\n",
       "      <th>basementsqft</th>\n",
       "      <th>bathroomcnt</th>\n",
       "      <th>bedroomcnt</th>\n",
       "      <th>buildingclasstypeid</th>\n",
       "      <th>buildingqualitytypeid</th>\n",
       "      <th>...</th>\n",
       "      <th>numberofstories</th>\n",
       "      <th>fireplaceflag</th>\n",
       "      <th>structuretaxvaluedollarcnt</th>\n",
       "      <th>taxvaluedollarcnt</th>\n",
       "      <th>assessmentyear</th>\n",
       "      <th>landtaxvaluedollarcnt</th>\n",
       "      <th>taxamount</th>\n",
       "      <th>taxdelinquencyflag</th>\n",
       "      <th>taxdelinquencyyear</th>\n",
       "      <th>censustractandblock</th>\n",
       "    </tr>\n",
       "  </thead>\n",
       "  <tbody>\n",
       "    <tr>\n",
       "      <th>0</th>\n",
       "      <td>11016594</td>\n",
       "      <td>0.0276</td>\n",
       "      <td>2016-01-01</td>\n",
       "      <td>1.0</td>\n",
       "      <td>NaN</td>\n",
       "      <td>NaN</td>\n",
       "      <td>2.0</td>\n",
       "      <td>3.0</td>\n",
       "      <td>NaN</td>\n",
       "      <td>4.0</td>\n",
       "      <td>...</td>\n",
       "      <td>NaN</td>\n",
       "      <td>NaN</td>\n",
       "      <td>122754.0</td>\n",
       "      <td>360170.0</td>\n",
       "      <td>2015.0</td>\n",
       "      <td>237416.0</td>\n",
       "      <td>6735.88</td>\n",
       "      <td>NaN</td>\n",
       "      <td>NaN</td>\n",
       "      <td>6.037107e+13</td>\n",
       "    </tr>\n",
       "    <tr>\n",
       "      <th>1</th>\n",
       "      <td>14366692</td>\n",
       "      <td>-0.1684</td>\n",
       "      <td>2016-01-01</td>\n",
       "      <td>NaN</td>\n",
       "      <td>NaN</td>\n",
       "      <td>NaN</td>\n",
       "      <td>3.5</td>\n",
       "      <td>4.0</td>\n",
       "      <td>NaN</td>\n",
       "      <td>NaN</td>\n",
       "      <td>...</td>\n",
       "      <td>NaN</td>\n",
       "      <td>NaN</td>\n",
       "      <td>346458.0</td>\n",
       "      <td>585529.0</td>\n",
       "      <td>2015.0</td>\n",
       "      <td>239071.0</td>\n",
       "      <td>10153.02</td>\n",
       "      <td>NaN</td>\n",
       "      <td>NaN</td>\n",
       "      <td>NaN</td>\n",
       "    </tr>\n",
       "    <tr>\n",
       "      <th>2</th>\n",
       "      <td>12098116</td>\n",
       "      <td>-0.0040</td>\n",
       "      <td>2016-01-01</td>\n",
       "      <td>1.0</td>\n",
       "      <td>NaN</td>\n",
       "      <td>NaN</td>\n",
       "      <td>3.0</td>\n",
       "      <td>2.0</td>\n",
       "      <td>NaN</td>\n",
       "      <td>4.0</td>\n",
       "      <td>...</td>\n",
       "      <td>NaN</td>\n",
       "      <td>NaN</td>\n",
       "      <td>61994.0</td>\n",
       "      <td>119906.0</td>\n",
       "      <td>2015.0</td>\n",
       "      <td>57912.0</td>\n",
       "      <td>11484.48</td>\n",
       "      <td>NaN</td>\n",
       "      <td>NaN</td>\n",
       "      <td>6.037464e+13</td>\n",
       "    </tr>\n",
       "    <tr>\n",
       "      <th>3</th>\n",
       "      <td>12643413</td>\n",
       "      <td>0.0218</td>\n",
       "      <td>2016-01-02</td>\n",
       "      <td>1.0</td>\n",
       "      <td>NaN</td>\n",
       "      <td>NaN</td>\n",
       "      <td>2.0</td>\n",
       "      <td>2.0</td>\n",
       "      <td>NaN</td>\n",
       "      <td>4.0</td>\n",
       "      <td>...</td>\n",
       "      <td>NaN</td>\n",
       "      <td>NaN</td>\n",
       "      <td>171518.0</td>\n",
       "      <td>244880.0</td>\n",
       "      <td>2015.0</td>\n",
       "      <td>73362.0</td>\n",
       "      <td>3048.74</td>\n",
       "      <td>NaN</td>\n",
       "      <td>NaN</td>\n",
       "      <td>6.037296e+13</td>\n",
       "    </tr>\n",
       "    <tr>\n",
       "      <th>4</th>\n",
       "      <td>14432541</td>\n",
       "      <td>-0.0050</td>\n",
       "      <td>2016-01-02</td>\n",
       "      <td>NaN</td>\n",
       "      <td>NaN</td>\n",
       "      <td>NaN</td>\n",
       "      <td>2.5</td>\n",
       "      <td>4.0</td>\n",
       "      <td>NaN</td>\n",
       "      <td>NaN</td>\n",
       "      <td>...</td>\n",
       "      <td>2.0</td>\n",
       "      <td>NaN</td>\n",
       "      <td>169574.0</td>\n",
       "      <td>434551.0</td>\n",
       "      <td>2015.0</td>\n",
       "      <td>264977.0</td>\n",
       "      <td>5488.96</td>\n",
       "      <td>NaN</td>\n",
       "      <td>NaN</td>\n",
       "      <td>6.059042e+13</td>\n",
       "    </tr>\n",
       "  </tbody>\n",
       "</table>\n",
       "<p>5 rows × 60 columns</p>\n",
       "</div>"
      ],
      "text/plain": [
       "   parcelid  logerror transactiondate  airconditioningtypeid  \\\n",
       "0  11016594    0.0276      2016-01-01                    1.0   \n",
       "1  14366692   -0.1684      2016-01-01                    NaN   \n",
       "2  12098116   -0.0040      2016-01-01                    1.0   \n",
       "3  12643413    0.0218      2016-01-02                    1.0   \n",
       "4  14432541   -0.0050      2016-01-02                    NaN   \n",
       "\n",
       "   architecturalstyletypeid  basementsqft  bathroomcnt  bedroomcnt  \\\n",
       "0                       NaN           NaN          2.0         3.0   \n",
       "1                       NaN           NaN          3.5         4.0   \n",
       "2                       NaN           NaN          3.0         2.0   \n",
       "3                       NaN           NaN          2.0         2.0   \n",
       "4                       NaN           NaN          2.5         4.0   \n",
       "\n",
       "   buildingclasstypeid  buildingqualitytypeid         ...           \\\n",
       "0                  NaN                    4.0         ...            \n",
       "1                  NaN                    NaN         ...            \n",
       "2                  NaN                    4.0         ...            \n",
       "3                  NaN                    4.0         ...            \n",
       "4                  NaN                    NaN         ...            \n",
       "\n",
       "   numberofstories  fireplaceflag  structuretaxvaluedollarcnt  \\\n",
       "0              NaN            NaN                    122754.0   \n",
       "1              NaN            NaN                    346458.0   \n",
       "2              NaN            NaN                     61994.0   \n",
       "3              NaN            NaN                    171518.0   \n",
       "4              2.0            NaN                    169574.0   \n",
       "\n",
       "   taxvaluedollarcnt  assessmentyear  landtaxvaluedollarcnt  taxamount  \\\n",
       "0           360170.0          2015.0               237416.0    6735.88   \n",
       "1           585529.0          2015.0               239071.0   10153.02   \n",
       "2           119906.0          2015.0                57912.0   11484.48   \n",
       "3           244880.0          2015.0                73362.0    3048.74   \n",
       "4           434551.0          2015.0               264977.0    5488.96   \n",
       "\n",
       "   taxdelinquencyflag  taxdelinquencyyear  censustractandblock  \n",
       "0                 NaN                 NaN         6.037107e+13  \n",
       "1                 NaN                 NaN                  NaN  \n",
       "2                 NaN                 NaN         6.037464e+13  \n",
       "3                 NaN                 NaN         6.037296e+13  \n",
       "4                 NaN                 NaN         6.059042e+13  \n",
       "\n",
       "[5 rows x 60 columns]"
      ]
     },
     "execution_count": 21,
     "metadata": {},
     "output_type": "execute_result"
    }
   ],
   "source": [
    "# Reading the merged data\n",
    "\n",
    "df = pd.read_csv('/Users/sonalichaudhari/Desktop/Projects/Zillow/data/train_merged_data.csv',low_memory=False)\n",
    "print(df.shape)\n",
    "df.head()"
   ]
  },
  {
   "cell_type": "markdown",
   "metadata": {},
   "source": [
    "### Checking for duplicate parcelid"
   ]
  },
  {
   "cell_type": "code",
   "execution_count": 23,
   "metadata": {},
   "outputs": [
    {
     "data": {
      "text/plain": [
       "False"
      ]
     },
     "execution_count": 23,
     "metadata": {},
     "output_type": "execute_result"
    }
   ],
   "source": [
    "#Checking if duplicate parcelid exists\n",
    "df.parcelid.nunique() == len(df.parcelid)"
   ]
  },
  {
   "cell_type": "code",
   "execution_count": 39,
   "metadata": {},
   "outputs": [
    {
     "name": "stdout",
     "output_type": "stream",
     "text": [
      "Number of parcelids having more than one records: \n",
      "124\n"
     ]
    }
   ],
   "source": [
    "count_parcelid = df.groupby('parcelid').size()\n",
    "more_than_one_parcelid = df[df.parcelid.isin(count_parcelid[count_parcelid > 1].index)]\n",
    "one_parcelid = df[df.parcelid.isin(count_parcelid[count_parcelid == 1].index)]\n",
    "print(\"Number of parcelids having more than one records: \")\n",
    "print(more_than_one_parcelid.parcelid.nunique())"
   ]
  },
  {
   "cell_type": "markdown",
   "metadata": {},
   "source": [
    "It appears that some homes were sold twice during the period that the training data was captured. We have a few options here, and it's just as imporatant to discuss the tradeoffs between them as choosing the \"right\" one (and there usually is no \"right\" one).\n",
    "\n",
    "We know that we don't want the model to overweight properties that have more than one record because we want it to perform well on our holdout set. On the other hand, there is valuable information in knowing that the only difference between two records (besides our target variable) is the date field.\n",
    "So for constructing the dataset for training our model, we could:\n",
    "* Use the most recent sales record\n",
    "* Use the oldest sales record\n",
    "* Use both sales records\n",
    "* Use a random sales record\n",
    "\n",
    "Engineer a feature from the information contained, and then choose one of the above\n",
    "Note that only a hundred or so of the 90,000ish properties have multiple sales records, so it probably isn't a big deal whatever we choose, so lets go with a simple solution for now, which is taking a random sale record for each parcel with more than one sale record."
   ]
  },
  {
   "cell_type": "code",
   "execution_count": 42,
   "metadata": {},
   "outputs": [
    {
     "data": {
      "text/plain": [
       "(90150, 60)"
      ]
     },
     "execution_count": 42,
     "metadata": {},
     "output_type": "execute_result"
    }
   ],
   "source": [
    "# first ensure we've accurately separated the records\n",
    "assert len(df) == (len(more_than_one_parcelid) + len(one_parcelid))\n",
    "\n",
    "# removing the dupicate records\n",
    "reduced_df = filter_parcels(df)\n",
    "reduced_df.shape"
   ]
  },
  {
   "cell_type": "markdown",
   "metadata": {},
   "source": [
    "### Check for missing values in every column"
   ]
  },
  {
   "cell_type": "code",
   "execution_count": 40,
   "metadata": {},
   "outputs": [
    {
     "data": {
      "text/plain": [
       "parcelid                            0\n",
       "longitude                           0\n",
       "propertylandusetypeid               0\n",
       "rawcensustractandblock              0\n",
       "regionidcounty                      0\n",
       "roomcnt                             0\n",
       "latitude                            0\n",
       "fips                                0\n",
       "bathroomcnt                         0\n",
       "assessmentyear                      0\n",
       "transactiondate                     0\n",
       "logerror                            0\n",
       "bedroomcnt                          0\n",
       "taxvaluedollarcnt                   1\n",
       "landtaxvaluedollarcnt               1\n",
       "propertycountylandusecode           1\n",
       "taxamount                           6\n",
       "regionidzip                        35\n",
       "structuretaxvaluedollarcnt        378\n",
       "censustractandblock               603\n",
       "calculatedfinishedsquarefeet      658\n",
       "yearbuilt                         753\n",
       "fullbathcnt                      1176\n",
       "calculatedbathnbr                1176\n",
       "regionidcity                     1801\n",
       "finishedsquarefeet12             4665\n",
       "lotsizesquarefeet               10136\n",
       "unitcnt                         31879\n",
       "propertyzoningdesc              31918\n",
       "buildingqualitytypeid           32866\n",
       "heatingorsystemtypeid           34145\n",
       "regionidneighborhood            54194\n",
       "garagetotalsqft                 60253\n",
       "garagecarcnt                    60253\n",
       "airconditioningtypeid           61402\n",
       "numberofstories                 69610\n",
       "poolcnt                         72274\n",
       "pooltypeid7                     73478\n",
       "threequarterbathnbr             78154\n",
       "fireplacecnt                    80553\n",
       "finishedfloor1squarefeet        83300\n",
       "finishedsquarefeet50            83300\n",
       "finishedsquarefeet15            86595\n",
       "yardbuildingsqft17              87505\n",
       "hashottuborspa                  87787\n",
       "taxdelinquencyflag              88375\n",
       "taxdelinquencyyear              88375\n",
       "pooltypeid2                     88946\n",
       "pooltypeid10                    88991\n",
       "poolsizesum                     89184\n",
       "decktypeid                      89492\n",
       "finishedsquarefeet6             89731\n",
       "typeconstructiontypeid          89852\n",
       "architecturalstyletypeid        89890\n",
       "fireplaceflag                   89930\n",
       "yardbuildingsqft26              90055\n",
       "storytypeid                     90107\n",
       "basementsqft                    90107\n",
       "finishedsquarefeet13            90117\n",
       "buildingclasstypeid             90134\n",
       "dtype: int64"
      ]
     },
     "execution_count": 40,
     "metadata": {},
     "output_type": "execute_result"
    }
   ],
   "source": [
    "# Count of missing values for all columns\n",
    "reduced_df.isnull().sum().sort_values(ascending = True)"
   ]
  },
  {
   "cell_type": "code",
   "execution_count": null,
   "metadata": {},
   "outputs": [],
   "source": []
  },
  {
   "cell_type": "code",
   "execution_count": null,
   "metadata": {},
   "outputs": [],
   "source": []
  },
  {
   "cell_type": "code",
   "execution_count": null,
   "metadata": {},
   "outputs": [],
   "source": []
  },
  {
   "cell_type": "code",
   "execution_count": 11,
   "metadata": {},
   "outputs": [],
   "source": [
    "# first ensure we've accurately separated the records\n",
    "assert len(df) == (len(more_than_one_sale) + len(only_one_sale))\n",
    "\n",
    "# then remove the duplicate records by choosing a random sale from properties with more than one\n",
    "reduced_df = more_than_one_sale.sample(frac=1, random_state=0).groupby('parcelid').head(1)\n",
    "reduced_df = pd.concat([only_one_sale, reduced_df])"
   ]
  },
  {
   "cell_type": "code",
   "execution_count": 19,
   "metadata": {},
   "outputs": [],
   "source": [
    "# and check if the same parcel IDs exist in the original data as the reduced data\n",
    "assert len(set(reduced_df.parcelid)) == len(set(df.parcelid))"
   ]
  },
  {
   "cell_type": "code",
   "execution_count": 14,
   "metadata": {},
   "outputs": [
    {
     "data": {
      "text/plain": [
       "True"
      ]
     },
     "execution_count": 14,
     "metadata": {},
     "output_type": "execute_result"
    }
   ],
   "source": [
    "set(reduced_df.parcelid) == set(df.parcelid)"
   ]
  },
  {
   "cell_type": "code",
   "execution_count": 17,
   "metadata": {},
   "outputs": [
    {
     "data": {
      "text/plain": [
       "90150"
      ]
     },
     "execution_count": 17,
     "metadata": {},
     "output_type": "execute_result"
    }
   ],
   "source": [
    "len(set(df.parcelid))+1"
   ]
  },
  {
   "cell_type": "code",
   "execution_count": null,
   "metadata": {},
   "outputs": [],
   "source": []
  }
 ],
 "metadata": {
  "kernelspec": {
   "display_name": "Python [conda root]",
   "language": "python",
   "name": "conda-root-py"
  },
  "language_info": {
   "codemirror_mode": {
    "name": "ipython",
    "version": 3
   },
   "file_extension": ".py",
   "mimetype": "text/x-python",
   "name": "python",
   "nbconvert_exporter": "python",
   "pygments_lexer": "ipython3",
   "version": "3.5.6"
  }
 },
 "nbformat": 4,
 "nbformat_minor": 2
}
