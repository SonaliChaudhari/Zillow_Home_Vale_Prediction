{
 "cells": [
  {
   "cell_type": "code",
   "execution_count": 27,
   "metadata": {
    "collapsed": true
   },
   "outputs": [],
   "source": [
    "import urllib3, requests, json"
   ]
  },
  {
   "cell_type": "code",
   "execution_count": 31,
   "metadata": {},
   "outputs": [],
   "source": [
    "import urllib3, requests, json\n",
    "\n",
    "wml_credentials={\n",
    "  \"url\": \"https://ibm-watson-ml.mybluemix.net\",\n",
    "  \"access_key\": \"dB1cl5I9ofqn4yKvT5+tTrfO5jh8cJS5aXfzCUX8FrNYLNFZAzQJFVFBJjKybQ3MHxGxQ3pIogjgEOjN0TGDTcL0h32gVzPkwMbmHXNpi+FQYUqQmv73SQJrb1WXWeZv\",\n",
    "  \"username\": \"2daaad31-b5e8-4ec3-8cea-a6a2e5ef1595\",\n",
    "  \"password\": \"f7f39756-67e4-4621-bf54-c02ceee3c73c\",\n",
    "  \"instance_id\": \"c87f90ad-916b-4926-8242-2b1bb3d55311\"\n",
    "}\n",
    "\n",
    "headers = urllib3.util.make_headers(basic_auth='{username}:{password}'.format(username=wml_credentials['username'], password=wml_credentials['password']))\n",
    "url = '{}/v3/identity/token'.format(wml_credentials['url'])\n",
    "response = requests.get(url, headers=headers)\n",
    "mltoken = json.loads(response.text).get('token')\n",
    "\n",
    "header = {'Content-Type': 'application/json', 'Authorization': 'Bearer ' + mltoken}\n",
    "\n",
    "payload_scoring = {\"fields\": [ \"ASSESSMENTYEAR\",\"BATHROOMCNT\", \"BEDROOMCNT\",\"CALCULATEDFINISHEDSQUAREFEET\",\"FIPS\",\"LANDTAXVALUEDOLLARCNT\",\"LATITUDE\",\"LONGITUDE\",\"LOTSIZESQUAREFEET\",\"MONTH\",\"PARCELID\",\"PROPERTYCOUNTYLANDUSECODE\",\"PROPERTYLANDUSETYPEID\",\"RAWCENSUSTRACTANDBLOCK\",\"REGIONIDCITY\",\"REGIONIDCOUNTY\",\"REGIONIDZIP\",\"ROOMCNT\",\"STRUCTURETAXVALUEDOLLARCNT\",\"TAXAMOUNT\",\"TAXVALUEDOLLARCNT\",\"YEAR\",\"YEARBUILT\"],\"values\": [[53,58,2015,2,3,1684,6037,237416,34.28099,-118.488536,7528,1,11016594,2,261,60371066.46,12447,3101,96370,0,122754,6735.88,360170,0,2016,1959]]}\n",
    "scoring_url=\"https://ibm-watson-ml.mybluemix.net/v3/wml_instances/c87f90ad-916b-4926-8242-2b1bb3d55311/published_models/7cbf2ecb-0612-4492-b879-caf36c3b4d2e/deployments/3e40d95a-3c35-487f-861d-6d665d7655d5/online\"\n",
    "response_scoring = requests.post(scoring_url, json=payload_scoring, headers=header)"
   ]
  },
  {
   "cell_type": "code",
   "execution_count": 32,
   "metadata": {},
   "outputs": [
    {
     "data": {
      "text/plain": [
       "<Response [400]>"
      ]
     },
     "execution_count": 32,
     "metadata": {},
     "output_type": "execute_result"
    }
   ],
   "source": [
    "response_scoring"
   ]
  },
  {
   "cell_type": "code",
   "execution_count": 33,
   "metadata": {},
   "outputs": [
    {
     "name": "stdout",
     "output_type": "stream",
     "text": [
      "{\n",
      "  \"trace\": \"p2pdjtzai3s6\",\n",
      "  \"errors\": [{\n",
      "    \"code\": \"invalid_payload\",\n",
      "    \"message\": \"Input json file is missing or invalid\",\n",
      "    \"target\": {\n",
      "      \"type\": \"field\",\n",
      "      \"name\": \"Field \\\"age\\\" was not found\"\n",
      "    }\n",
      "  }]\n",
      "}\n"
     ]
    }
   ],
   "source": [
    "print(response_scoring.text)"
   ]
  },
  {
   "cell_type": "code",
   "execution_count": null,
   "metadata": {
    "collapsed": true
   },
   "outputs": [],
   "source": []
  }
 ],
 "metadata": {
  "kernelspec": {
   "display_name": "Python 3",
   "language": "python",
   "name": "python3"
  },
  "language_info": {
   "codemirror_mode": {
    "name": "ipython",
    "version": 3
   },
   "file_extension": ".py",
   "mimetype": "text/x-python",
   "name": "python",
   "nbconvert_exporter": "python",
   "pygments_lexer": "ipython3",
   "version": "3.6.1"
  }
 },
 "nbformat": 4,
 "nbformat_minor": 2
}
